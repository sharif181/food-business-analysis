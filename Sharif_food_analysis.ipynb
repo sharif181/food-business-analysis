{
  "nbformat": 4,
  "nbformat_minor": 0,
  "metadata": {
    "colab": {
      "name": "Sharif_food_analysis.ipynb",
      "provenance": [],
      "collapsed_sections": [],
      "include_colab_link": true
    },
    "kernelspec": {
      "name": "python3",
      "display_name": "Python 3"
    },
    "language_info": {
      "name": "python"
    }
  },
  "cells": [
    {
      "cell_type": "markdown",
      "metadata": {
        "id": "view-in-github",
        "colab_type": "text"
      },
      "source": [
        "<a href=\"https://colab.research.google.com/github/sharif181/food-business-analysis/blob/main/Sharif_food_analysis.ipynb\" target=\"_parent\"><img src=\"https://colab.research.google.com/assets/colab-badge.svg\" alt=\"Open In Colab\"/></a>"
      ]
    },
    {
      "cell_type": "markdown",
      "metadata": {
        "id": "Z_yCCJp8I_O6"
      },
      "source": [
        "Topic name: Food business analysis and prediction using Machine Learning.\n",
        "\n",
        "Members info:\n",
        "\n",
        "1. Md Sharif khan      ID: 181-15-2002\n",
        "2. Md Jahid Hasan      ID: 181-15-1905\n",
        "3. Md Masidul Hasan    ID: 181-15-1947\n",
        "\n"
      ]
    },
    {
      "cell_type": "markdown",
      "metadata": {
        "id": "DzMj0Hze3XKh"
      },
      "source": [
        "#***Importing libary and Mounting***"
      ]
    },
    {
      "cell_type": "code",
      "metadata": {
        "id": "2ZuUNFXU3Clw",
        "colab": {
          "base_uri": "https://localhost:8080/"
        },
        "outputId": "3818432a-c207-4e63-fb9f-395ccc32f1a5"
      },
      "source": [
        "import pandas as pd\n",
        "from google.colab import drive\n",
        "drive.mount('/content/gdrive')"
      ],
      "execution_count": null,
      "outputs": [
        {
          "output_type": "stream",
          "text": [
            "Drive already mounted at /content/gdrive; to attempt to forcibly remount, call drive.mount(\"/content/gdrive\", force_remount=True).\n"
          ],
          "name": "stdout"
        }
      ]
    },
    {
      "cell_type": "markdown",
      "metadata": {
        "id": "HFOE3bPr63Fh"
      },
      "source": [
        "#**Import Data and test**"
      ]
    },
    {
      "cell_type": "code",
      "metadata": {
        "id": "TDFEIUv03iYv",
        "colab": {
          "base_uri": "https://localhost:8080/"
        },
        "outputId": "b805ee82-59b5-4942-ad4e-8a1b83cedb30"
      },
      "source": [
        "df = pd.read_csv(\"/content/gdrive/MyDrive/Colab Notebooks/ML-Project/fooddata.csv\")\n",
        "print(df.head())"
      ],
      "execution_count": null,
      "outputs": [
        {
          "output_type": "stream",
          "text": [
            "     Age Gender  ... Cost_rest_month                 Food_type\n",
            "0  16-30   Male  ...        501-1000  Traditional bengali food\n",
            "1  16-30   Male  ...           1-500  Traditional bengali food\n",
            "2  16-30   Male  ...           1-500                 Fast food\n",
            "3  16-30   Male  ...           1-500  Traditional bengali food\n",
            "4  16-30   Male  ...           1-500                 Fast food\n",
            "\n",
            "[5 rows x 19 columns]\n"
          ],
          "name": "stdout"
        }
      ]
    },
    {
      "cell_type": "markdown",
      "metadata": {
        "id": "Q-5LCoXZ69FK"
      },
      "source": [
        "#**Print columns name**"
      ]
    },
    {
      "cell_type": "code",
      "metadata": {
        "id": "cZW8rWW-3s_i",
        "colab": {
          "base_uri": "https://localhost:8080/"
        },
        "outputId": "eb700955-f984-4e7a-f6f9-fddf3c849501"
      },
      "source": [
        "df.columns"
      ],
      "execution_count": null,
      "outputs": [
        {
          "output_type": "execute_result",
          "data": {
            "text/plain": [
              "Index(['Age', 'Gender', 'Marital_status', 'Division', 'Home_town',\n",
              "       'Living_Town', 'Is_urban', 'Work', 'Income',\n",
              "       'take_food_from_restuarent_month', 'Order_food_from_online_month',\n",
              "       'Spicy', 'Sweet', 'Preferable_price_BDT', 'New_recipe', 'Street_food',\n",
              "       'Restuarent_food', 'Cost_rest_month', 'Food_type'],\n",
              "      dtype='object')"
            ]
          },
          "metadata": {
            "tags": []
          },
          "execution_count": 249
        }
      ]
    },
    {
      "cell_type": "code",
      "metadata": {
        "id": "zbdhJKGb-l54",
        "colab": {
          "base_uri": "https://localhost:8080/"
        },
        "outputId": "0c78b6ac-20e5-4d11-dd8d-d541d2fe138f"
      },
      "source": [
        "df.shape"
      ],
      "execution_count": null,
      "outputs": [
        {
          "output_type": "execute_result",
          "data": {
            "text/plain": [
              "(422, 19)"
            ]
          },
          "metadata": {
            "tags": []
          },
          "execution_count": 250
        }
      ]
    },
    {
      "cell_type": "code",
      "metadata": {
        "id": "Tq3jXegC60jQ",
        "colab": {
          "base_uri": "https://localhost:8080/"
        },
        "outputId": "5758e1eb-8bb3-44c0-ca88-964bd7400edb"
      },
      "source": [
        "df.info()"
      ],
      "execution_count": null,
      "outputs": [
        {
          "output_type": "stream",
          "text": [
            "<class 'pandas.core.frame.DataFrame'>\n",
            "RangeIndex: 422 entries, 0 to 421\n",
            "Data columns (total 19 columns):\n",
            " #   Column                           Non-Null Count  Dtype \n",
            "---  ------                           --------------  ----- \n",
            " 0   Age                              422 non-null    object\n",
            " 1   Gender                           422 non-null    object\n",
            " 2   Marital_status                   422 non-null    object\n",
            " 3   Division                         422 non-null    object\n",
            " 4   Home_town                        422 non-null    object\n",
            " 5   Living_Town                      422 non-null    object\n",
            " 6   Is_urban                         422 non-null    object\n",
            " 7   Work                             422 non-null    object\n",
            " 8   Income                           422 non-null    object\n",
            " 9   take_food_from_restuarent_month  422 non-null    object\n",
            " 10  Order_food_from_online_month     422 non-null    object\n",
            " 11  Spicy                            422 non-null    int64 \n",
            " 12  Sweet                            422 non-null    int64 \n",
            " 13  Preferable_price_BDT             422 non-null    object\n",
            " 14  New_recipe                       422 non-null    object\n",
            " 15  Street_food                      422 non-null    int64 \n",
            " 16  Restuarent_food                  422 non-null    int64 \n",
            " 17  Cost_rest_month                  422 non-null    object\n",
            " 18  Food_type                        422 non-null    object\n",
            "dtypes: int64(4), object(15)\n",
            "memory usage: 62.8+ KB\n"
          ],
          "name": "stdout"
        }
      ]
    },
    {
      "cell_type": "code",
      "metadata": {
        "id": "4gpqkZ9M7DOX",
        "colab": {
          "base_uri": "https://localhost:8080/"
        },
        "outputId": "177ad17a-c830-4f6a-e6d3-ed5fbf60d70d"
      },
      "source": [
        "df.isnull().sum()"
      ],
      "execution_count": null,
      "outputs": [
        {
          "output_type": "execute_result",
          "data": {
            "text/plain": [
              "Age                                0\n",
              "Gender                             0\n",
              "Marital_status                     0\n",
              "Division                           0\n",
              "Home_town                          0\n",
              "Living_Town                        0\n",
              "Is_urban                           0\n",
              "Work                               0\n",
              "Income                             0\n",
              "take_food_from_restuarent_month    0\n",
              "Order_food_from_online_month       0\n",
              "Spicy                              0\n",
              "Sweet                              0\n",
              "Preferable_price_BDT               0\n",
              "New_recipe                         0\n",
              "Street_food                        0\n",
              "Restuarent_food                    0\n",
              "Cost_rest_month                    0\n",
              "Food_type                          0\n",
              "dtype: int64"
            ]
          },
          "metadata": {
            "tags": []
          },
          "execution_count": 252
        }
      ]
    },
    {
      "cell_type": "markdown",
      "metadata": {
        "id": "QmiBKjpEJr3u"
      },
      "source": [
        "#**Cleaning**"
      ]
    },
    {
      "cell_type": "code",
      "metadata": {
        "id": "jSToDDVVR7FS"
      },
      "source": [
        "mdf = [df]"
      ],
      "execution_count": null,
      "outputs": []
    },
    {
      "cell_type": "code",
      "metadata": {
        "id": "bdUcCSDvSyi6"
      },
      "source": [
        "for dataset in mdf:\n",
        "  dataset[\"Age\"] = dataset[\"Age\"].replace(\"0-15\",0)\n",
        "  dataset[\"Age\"] = dataset[\"Age\"].replace(\"16-30\",1)\n",
        "  dataset[\"Age\"] = dataset[\"Age\"].replace(\"31-45\",2)\n",
        "  dataset[\"Age\"] = dataset[\"Age\"].replace(\"45+\",3)"
      ],
      "execution_count": null,
      "outputs": []
    },
    {
      "cell_type": "code",
      "metadata": {
        "id": "DVSBEUhhcDJy"
      },
      "source": [
        "gender_map = {\"Male\":0,\"Female\":1,\"Other\":2}\n",
        "for data in mdf:\n",
        "  data['Gender'] = data['Gender'].map(gender_map)"
      ],
      "execution_count": null,
      "outputs": []
    },
    {
      "cell_type": "code",
      "metadata": {
        "id": "1QxiyHu3chx1"
      },
      "source": [
        "marrital_status_map = {\"Married\":0,\"Unmarried\":1}\n",
        "for data in mdf:\n",
        "  data['Marital_status'] = data['Marital_status'].map(marrital_status_map)"
      ],
      "execution_count": null,
      "outputs": []
    },
    {
      "cell_type": "code",
      "metadata": {
        "id": "R3LOti32c6rN"
      },
      "source": [
        "division_map = {\"Barisal\":0,\"Chittagong\":1,\"Dhaka\":2,\"Khulna\":3,\"Mymensingh\":4,\"Rajshahi\":5,\"Sylhet\":6,\"Rangpur\":7}\n",
        "for data in mdf:\n",
        "  data['Division'] = data['Division'].map(division_map)"
      ],
      "execution_count": null,
      "outputs": []
    },
    {
      "cell_type": "code",
      "metadata": {
        "id": "ka_L1uqsdmzq"
      },
      "source": [
        "home_town_map={\"Bagerhat\":0,\"Bandarban\":1,\"Barguna\":2,\"Barishal\":3,\"Bhola\":4,\"Bogura\":5,\"Brahmanbaria\":6,\"Chandpur\":7,\n",
        "               \"Chapai Nawabganj\":8,\"Chattogram\":9,\"Chuadanga\":10,\"Cox's Bazar\":11,\"Cumilla\":12,\"Dhaka\":13,\"Dinajpur\":14,\n",
        "               \"Faridpur\":15,\"Feni\":16,\"Gaibandha\":17,\"Gazipur\":18,\"Gopalganj\":19,\"Habiganj\":20,\"Jamalpur\":21,\n",
        "               \"Jashore\":22,\"Jhalakathi\":23,\"Jhenaidah\":24,\"Joypurhat\":25,\"Khagrachhari\":26,\"Khulna\":27,\"Kishoreganj\":28,\n",
        "               \"Kurigram\":29,\"Kushtia\":30,\"Lakshmipur\":31,\"Lalmonirhat\":32,\"Madaripur\":33,\"Magura\":34,\"Manikganj\":35,\n",
        "               \"Meherpur\":36,\"Moulvibazar\":37,\"Munshiganj\":38,\"Mymensingh\":39,\"Naogaon\":40,\"Narail\":41,\"Narayanganj\":42,\n",
        "               \"Narsingdi\":43,\"Natore\":44,\"Netrakona\":45,\"Nilphamari\":46,\"Noakhali\":47,\"Pabna\":48,\"Panchagarh\":49,\"Patuakhali\":50,\n",
        "               \"Pirojpur\":51,\"Rajbari\":52,\"Rajshahi\":53,\"Rangamati\":54,\"Rangpur\":55,\"Satkhira\":56,\"Shariatpur\":57,\"Sherpur\":58,\n",
        "               \"Sirajganj\":59,\"Sunamganj\":60,\"Sylhet\":61,\"Tangail\":62,\"Thakurgaon\":63}\n",
        "for data in mdf:\n",
        "  data['Home_town'] = data['Home_town'].map(home_town_map)"
      ],
      "execution_count": null,
      "outputs": []
    },
    {
      "cell_type": "code",
      "metadata": {
        "id": "GIDoxXffkrVM"
      },
      "source": [
        "living_town_map={\"Bagerhat\":0,\"Bandarban\":1,\"Barguna\":2,\"Barishal\":3,\"Bhola\":4,\"Bogura\":5,\"Brahmanbaria\":6,\"Chandpur\":7,\n",
        "               \"Chapai Nawabganj\":8,\"Chattogram\":9,\"Chuadanga\":10,\"Cox's Bazar\":11,\"Cumilla\":12,\"Dhaka\":13,\"Dinajpur\":14,\n",
        "               \"Faridpur\":15,\"Feni\":16,\"Gaibandha\":17,\"Gazipur\":18,\"Gopalganj\":19,\"Habiganj\":20,\"Jamalpur\":21,\n",
        "               \"Jashore\":22,\"Jhalakathi\":23,\"Jhenaidah\":24,\"Joypurhat\":25,\"Khagrachhari\":26,\"Khulna\":27,\"Kishoreganj\":28,\n",
        "               \"Kurigram\":29,\"Kushtia\":30,\"Lakshmipur\":31,\"Lalmonirhat\":32,\"Madaripur\":33,\"Magura\":34,\"Manikganj\":35,\n",
        "               \"Meherpur\":36,\"Moulvibazar\":37,\"Munshiganj\":38,\"Mymensingh\":39,\"Naogaon\":40,\"Narail\":41,\"Narayanganj\":42,\n",
        "               \"Narsingdi\":43,\"Natore\":44,\"Netrakona\":45,\"Nilphamari\":46,\"Noakhali\":47,\"Pabna\":48,\"Panchagarh\":49,\"Patuakhali\":50,\n",
        "               \"Pirojpur\":51,\"Rajbari\":52,\"Rajshahi\":53,\"Rangamati\":54,\"Rangpur\":55,\"Satkhira\":56,\"Shariatpur\":57,\"Sherpur\":58,\n",
        "               \"Sirajganj\":59,\"Sunamganj\":60,\"Sylhet\":61,\"Tangail\":62,\"Thakurgaon\":63}\n",
        "for data in mdf:\n",
        "  data['Living_Town'] = data['Living_Town'].map(living_town_map)"
      ],
      "execution_count": null,
      "outputs": []
    },
    {
      "cell_type": "code",
      "metadata": {
        "id": "5Unoy1p6k8s6"
      },
      "source": [
        "urban_map = {\"Yes\":1,\"No\":2}\n",
        "for data in mdf:\n",
        "  data['Is_urban'] = data['Is_urban'].map(urban_map)"
      ],
      "execution_count": null,
      "outputs": []
    },
    {
      "cell_type": "code",
      "metadata": {
        "id": "7PphXA1GlOiE"
      },
      "source": [
        "work_map = {\"Private Job\":1,\"Govt. Job\":2,\"Business\":3,\"Student\":4,\"None\":5}\n",
        "for data in mdf:\n",
        "  data['Work'] = data['Work'].map(work_map)"
      ],
      "execution_count": null,
      "outputs": []
    },
    {
      "cell_type": "code",
      "metadata": {
        "id": "D4IBfbAVl6JW"
      },
      "source": [
        "for dataset in mdf:\n",
        "  dataset[\"Income\"] = dataset[\"Income\"].replace(\"0\",0)\n",
        "  dataset[\"Income\"] = dataset[\"Income\"].replace(\"1-10000\",1)\n",
        "  dataset[\"Income\"] = dataset[\"Income\"].replace(\"10001-20000\",2)\n",
        "  dataset[\"Income\"] = dataset[\"Income\"].replace(\"20001-30000\",3)\n",
        "  dataset[\"Income\"] = dataset[\"Income\"].replace(\"30000+\",4)"
      ],
      "execution_count": null,
      "outputs": []
    },
    {
      "cell_type": "code",
      "metadata": {
        "id": "fAiLyF1Mo6kb"
      },
      "source": [
        "for dataset in mdf:\n",
        "  dataset[\"take_food_from_restuarent_month\"] = dataset[\"take_food_from_restuarent_month\"].replace(\"0\",0)\n",
        "  dataset[\"take_food_from_restuarent_month\"] = dataset[\"take_food_from_restuarent_month\"].replace(\"1-5\",1)\n",
        "  dataset[\"take_food_from_restuarent_month\"] = dataset[\"take_food_from_restuarent_month\"].replace(\"6-10\",2)\n",
        "  dataset[\"take_food_from_restuarent_month\"] = dataset[\"take_food_from_restuarent_month\"].replace(\"11-15\",3)\n",
        "  dataset[\"take_food_from_restuarent_month\"] = dataset[\"take_food_from_restuarent_month\"].replace(\"15+\",4)"
      ],
      "execution_count": null,
      "outputs": []
    },
    {
      "cell_type": "code",
      "metadata": {
        "id": "Y2wRq99ipHbL"
      },
      "source": [
        "for dataset in mdf:\n",
        "  dataset[\"Order_food_from_online_month\"] = dataset[\"Order_food_from_online_month\"].replace(\"0\",0)\n",
        "  dataset[\"Order_food_from_online_month\"] = dataset[\"Order_food_from_online_month\"].replace(\"1-5\",1)\n",
        "  dataset[\"Order_food_from_online_month\"] = dataset[\"Order_food_from_online_month\"].replace(\"6-10\",2)\n",
        "  dataset[\"Order_food_from_online_month\"] = dataset[\"Order_food_from_online_month\"].replace(\"11-15\",3)\n",
        "  dataset[\"Order_food_from_online_month\"] = dataset[\"Order_food_from_online_month\"].replace(\"15+\",4)"
      ],
      "execution_count": null,
      "outputs": []
    },
    {
      "cell_type": "code",
      "metadata": {
        "id": "-gJ2RhqupnZs"
      },
      "source": [
        "for dataset in mdf:\n",
        "  dataset[\"Preferable_price_BDT\"] = dataset[\"Preferable_price_BDT\"].replace(\"1-50\",0)\n",
        "  dataset[\"Preferable_price_BDT\"] = dataset[\"Preferable_price_BDT\"].replace(\"51-100\",1)\n",
        "  dataset[\"Preferable_price_BDT\"] = dataset[\"Preferable_price_BDT\"].replace(\"101-200\",2)\n",
        "  dataset[\"Preferable_price_BDT\"] = dataset[\"Preferable_price_BDT\"].replace(\"201-400\",3)\n",
        "  dataset[\"Preferable_price_BDT\"] = dataset[\"Preferable_price_BDT\"].replace(\"401-500\",4)\n",
        "  dataset[\"Preferable_price_BDT\"] = dataset[\"Preferable_price_BDT\"].replace(\"501+\",5)"
      ],
      "execution_count": null,
      "outputs": []
    },
    {
      "cell_type": "code",
      "metadata": {
        "id": "9idNmUYvqSDk"
      },
      "source": [
        "recipe_map = {\"Yes\":1,\"No\":2}\n",
        "for data in mdf:\n",
        "  data['New_recipe'] = data['New_recipe'].map(recipe_map)"
      ],
      "execution_count": null,
      "outputs": []
    },
    {
      "cell_type": "code",
      "metadata": {
        "id": "thqM8u71qpwT"
      },
      "source": [
        "for dataset in mdf:\n",
        "  dataset[\"Cost_rest_month\"] = dataset[\"Cost_rest_month\"].replace(\"0\",0)\n",
        "  dataset[\"Cost_rest_month\"] = dataset[\"Cost_rest_month\"].replace(\"1-500\",1)\n",
        "  dataset[\"Cost_rest_month\"] = dataset[\"Cost_rest_month\"].replace(\"501-1000\",2)\n",
        "  dataset[\"Cost_rest_month\"] = dataset[\"Cost_rest_month\"].replace(\"1000+\",3)"
      ],
      "execution_count": null,
      "outputs": []
    },
    {
      "cell_type": "code",
      "metadata": {
        "id": "yfpzQIK2q7T5"
      },
      "source": [
        "food_map = {\"Fast food\":1,\"Traditional bengali food\":2,\"Others\":3}\n",
        "for data in mdf:\n",
        "  data['Food_type'] = data['Food_type'].map(food_map)"
      ],
      "execution_count": null,
      "outputs": []
    },
    {
      "cell_type": "code",
      "metadata": {
        "id": "-lQedj5i-fXn",
        "colab": {
          "base_uri": "https://localhost:8080/"
        },
        "outputId": "3a4c5cbc-c8fb-4ed9-e673-85292cd7c0ad"
      },
      "source": [
        "df.info()"
      ],
      "execution_count": null,
      "outputs": [
        {
          "output_type": "stream",
          "text": [
            "<class 'pandas.core.frame.DataFrame'>\n",
            "RangeIndex: 422 entries, 0 to 421\n",
            "Data columns (total 19 columns):\n",
            " #   Column                           Non-Null Count  Dtype\n",
            "---  ------                           --------------  -----\n",
            " 0   Age                              422 non-null    int64\n",
            " 1   Gender                           422 non-null    int64\n",
            " 2   Marital_status                   422 non-null    int64\n",
            " 3   Division                         422 non-null    int64\n",
            " 4   Home_town                        422 non-null    int64\n",
            " 5   Living_Town                      422 non-null    int64\n",
            " 6   Is_urban                         422 non-null    int64\n",
            " 7   Work                             422 non-null    int64\n",
            " 8   Income                           422 non-null    int64\n",
            " 9   take_food_from_restuarent_month  422 non-null    int64\n",
            " 10  Order_food_from_online_month     422 non-null    int64\n",
            " 11  Spicy                            422 non-null    int64\n",
            " 12  Sweet                            422 non-null    int64\n",
            " 13  Preferable_price_BDT             422 non-null    int64\n",
            " 14  New_recipe                       422 non-null    int64\n",
            " 15  Street_food                      422 non-null    int64\n",
            " 16  Restuarent_food                  422 non-null    int64\n",
            " 17  Cost_rest_month                  422 non-null    int64\n",
            " 18  Food_type                        422 non-null    int64\n",
            "dtypes: int64(19)\n",
            "memory usage: 62.8 KB\n"
          ],
          "name": "stdout"
        }
      ]
    },
    {
      "cell_type": "code",
      "metadata": {
        "id": "T6Ttb6RE-ie-",
        "colab": {
          "base_uri": "https://localhost:8080/",
          "height": 224
        },
        "outputId": "747ce23a-38d0-4c5e-ed2e-965f8addd251"
      },
      "source": [
        "df.head()"
      ],
      "execution_count": null,
      "outputs": [
        {
          "output_type": "execute_result",
          "data": {
            "text/html": [
              "<div>\n",
              "<style scoped>\n",
              "    .dataframe tbody tr th:only-of-type {\n",
              "        vertical-align: middle;\n",
              "    }\n",
              "\n",
              "    .dataframe tbody tr th {\n",
              "        vertical-align: top;\n",
              "    }\n",
              "\n",
              "    .dataframe thead th {\n",
              "        text-align: right;\n",
              "    }\n",
              "</style>\n",
              "<table border=\"1\" class=\"dataframe\">\n",
              "  <thead>\n",
              "    <tr style=\"text-align: right;\">\n",
              "      <th></th>\n",
              "      <th>Age</th>\n",
              "      <th>Gender</th>\n",
              "      <th>Marital_status</th>\n",
              "      <th>Division</th>\n",
              "      <th>Home_town</th>\n",
              "      <th>Living_Town</th>\n",
              "      <th>Is_urban</th>\n",
              "      <th>Work</th>\n",
              "      <th>Income</th>\n",
              "      <th>take_food_from_restuarent_month</th>\n",
              "      <th>Order_food_from_online_month</th>\n",
              "      <th>Spicy</th>\n",
              "      <th>Sweet</th>\n",
              "      <th>Preferable_price_BDT</th>\n",
              "      <th>New_recipe</th>\n",
              "      <th>Street_food</th>\n",
              "      <th>Restuarent_food</th>\n",
              "      <th>Cost_rest_month</th>\n",
              "      <th>Food_type</th>\n",
              "    </tr>\n",
              "  </thead>\n",
              "  <tbody>\n",
              "    <tr>\n",
              "      <th>0</th>\n",
              "      <td>1</td>\n",
              "      <td>0</td>\n",
              "      <td>1</td>\n",
              "      <td>2</td>\n",
              "      <td>55</td>\n",
              "      <td>13</td>\n",
              "      <td>1</td>\n",
              "      <td>1</td>\n",
              "      <td>4</td>\n",
              "      <td>1</td>\n",
              "      <td>1</td>\n",
              "      <td>4</td>\n",
              "      <td>3</td>\n",
              "      <td>2</td>\n",
              "      <td>1</td>\n",
              "      <td>4</td>\n",
              "      <td>3</td>\n",
              "      <td>2</td>\n",
              "      <td>2</td>\n",
              "    </tr>\n",
              "    <tr>\n",
              "      <th>1</th>\n",
              "      <td>1</td>\n",
              "      <td>0</td>\n",
              "      <td>1</td>\n",
              "      <td>5</td>\n",
              "      <td>59</td>\n",
              "      <td>13</td>\n",
              "      <td>2</td>\n",
              "      <td>4</td>\n",
              "      <td>1</td>\n",
              "      <td>0</td>\n",
              "      <td>0</td>\n",
              "      <td>4</td>\n",
              "      <td>5</td>\n",
              "      <td>2</td>\n",
              "      <td>1</td>\n",
              "      <td>5</td>\n",
              "      <td>4</td>\n",
              "      <td>1</td>\n",
              "      <td>2</td>\n",
              "    </tr>\n",
              "    <tr>\n",
              "      <th>2</th>\n",
              "      <td>1</td>\n",
              "      <td>0</td>\n",
              "      <td>1</td>\n",
              "      <td>5</td>\n",
              "      <td>26</td>\n",
              "      <td>13</td>\n",
              "      <td>1</td>\n",
              "      <td>4</td>\n",
              "      <td>0</td>\n",
              "      <td>1</td>\n",
              "      <td>0</td>\n",
              "      <td>5</td>\n",
              "      <td>5</td>\n",
              "      <td>0</td>\n",
              "      <td>1</td>\n",
              "      <td>5</td>\n",
              "      <td>5</td>\n",
              "      <td>1</td>\n",
              "      <td>1</td>\n",
              "    </tr>\n",
              "    <tr>\n",
              "      <th>3</th>\n",
              "      <td>1</td>\n",
              "      <td>0</td>\n",
              "      <td>0</td>\n",
              "      <td>3</td>\n",
              "      <td>34</td>\n",
              "      <td>13</td>\n",
              "      <td>1</td>\n",
              "      <td>4</td>\n",
              "      <td>0</td>\n",
              "      <td>1</td>\n",
              "      <td>0</td>\n",
              "      <td>2</td>\n",
              "      <td>4</td>\n",
              "      <td>1</td>\n",
              "      <td>1</td>\n",
              "      <td>4</td>\n",
              "      <td>3</td>\n",
              "      <td>1</td>\n",
              "      <td>2</td>\n",
              "    </tr>\n",
              "    <tr>\n",
              "      <th>4</th>\n",
              "      <td>1</td>\n",
              "      <td>0</td>\n",
              "      <td>0</td>\n",
              "      <td>2</td>\n",
              "      <td>8</td>\n",
              "      <td>13</td>\n",
              "      <td>1</td>\n",
              "      <td>4</td>\n",
              "      <td>1</td>\n",
              "      <td>2</td>\n",
              "      <td>2</td>\n",
              "      <td>5</td>\n",
              "      <td>2</td>\n",
              "      <td>1</td>\n",
              "      <td>2</td>\n",
              "      <td>4</td>\n",
              "      <td>2</td>\n",
              "      <td>1</td>\n",
              "      <td>1</td>\n",
              "    </tr>\n",
              "  </tbody>\n",
              "</table>\n",
              "</div>"
            ],
            "text/plain": [
              "   Age  Gender  Marital_status  ...  Restuarent_food  Cost_rest_month  Food_type\n",
              "0    1       0               1  ...                3                2          2\n",
              "1    1       0               1  ...                4                1          2\n",
              "2    1       0               1  ...                5                1          1\n",
              "3    1       0               0  ...                3                1          2\n",
              "4    1       0               0  ...                2                1          1\n",
              "\n",
              "[5 rows x 19 columns]"
            ]
          },
          "metadata": {
            "tags": []
          },
          "execution_count": 270
        }
      ]
    },
    {
      "cell_type": "code",
      "metadata": {
        "id": "OePDdVl9qELQ"
      },
      "source": [
        "import numpy as np\n",
        "df['Street_or_resturant'] = np.where(df['Street_food']>=df['Restuarent_food'],1,2)"
      ],
      "execution_count": null,
      "outputs": []
    },
    {
      "cell_type": "code",
      "metadata": {
        "id": "3PNmL0cM_S8S",
        "colab": {
          "base_uri": "https://localhost:8080/"
        },
        "outputId": "ae638829-504e-45fd-a90a-09ace289cb63"
      },
      "source": [
        "df['Street_or_resturant'].value_counts()"
      ],
      "execution_count": null,
      "outputs": [
        {
          "output_type": "execute_result",
          "data": {
            "text/plain": [
              "1    292\n",
              "2    130\n",
              "Name: Street_or_resturant, dtype: int64"
            ]
          },
          "metadata": {
            "tags": []
          },
          "execution_count": 272
        }
      ]
    },
    {
      "cell_type": "code",
      "metadata": {
        "id": "i3OgpP4ECrnj",
        "colab": {
          "base_uri": "https://localhost:8080/",
          "height": 255
        },
        "outputId": "d3022492-9582-4351-8178-cd65a6b554e4"
      },
      "source": [
        "df.head(6)"
      ],
      "execution_count": null,
      "outputs": [
        {
          "output_type": "execute_result",
          "data": {
            "text/html": [
              "<div>\n",
              "<style scoped>\n",
              "    .dataframe tbody tr th:only-of-type {\n",
              "        vertical-align: middle;\n",
              "    }\n",
              "\n",
              "    .dataframe tbody tr th {\n",
              "        vertical-align: top;\n",
              "    }\n",
              "\n",
              "    .dataframe thead th {\n",
              "        text-align: right;\n",
              "    }\n",
              "</style>\n",
              "<table border=\"1\" class=\"dataframe\">\n",
              "  <thead>\n",
              "    <tr style=\"text-align: right;\">\n",
              "      <th></th>\n",
              "      <th>Age</th>\n",
              "      <th>Gender</th>\n",
              "      <th>Marital_status</th>\n",
              "      <th>Division</th>\n",
              "      <th>Home_town</th>\n",
              "      <th>Living_Town</th>\n",
              "      <th>Is_urban</th>\n",
              "      <th>Work</th>\n",
              "      <th>Income</th>\n",
              "      <th>take_food_from_restuarent_month</th>\n",
              "      <th>Order_food_from_online_month</th>\n",
              "      <th>Spicy</th>\n",
              "      <th>Sweet</th>\n",
              "      <th>Preferable_price_BDT</th>\n",
              "      <th>New_recipe</th>\n",
              "      <th>Street_food</th>\n",
              "      <th>Restuarent_food</th>\n",
              "      <th>Cost_rest_month</th>\n",
              "      <th>Food_type</th>\n",
              "      <th>Street_or_resturant</th>\n",
              "    </tr>\n",
              "  </thead>\n",
              "  <tbody>\n",
              "    <tr>\n",
              "      <th>0</th>\n",
              "      <td>1</td>\n",
              "      <td>0</td>\n",
              "      <td>1</td>\n",
              "      <td>2</td>\n",
              "      <td>55</td>\n",
              "      <td>13</td>\n",
              "      <td>1</td>\n",
              "      <td>1</td>\n",
              "      <td>4</td>\n",
              "      <td>1</td>\n",
              "      <td>1</td>\n",
              "      <td>4</td>\n",
              "      <td>3</td>\n",
              "      <td>2</td>\n",
              "      <td>1</td>\n",
              "      <td>4</td>\n",
              "      <td>3</td>\n",
              "      <td>2</td>\n",
              "      <td>2</td>\n",
              "      <td>1</td>\n",
              "    </tr>\n",
              "    <tr>\n",
              "      <th>1</th>\n",
              "      <td>1</td>\n",
              "      <td>0</td>\n",
              "      <td>1</td>\n",
              "      <td>5</td>\n",
              "      <td>59</td>\n",
              "      <td>13</td>\n",
              "      <td>2</td>\n",
              "      <td>4</td>\n",
              "      <td>1</td>\n",
              "      <td>0</td>\n",
              "      <td>0</td>\n",
              "      <td>4</td>\n",
              "      <td>5</td>\n",
              "      <td>2</td>\n",
              "      <td>1</td>\n",
              "      <td>5</td>\n",
              "      <td>4</td>\n",
              "      <td>1</td>\n",
              "      <td>2</td>\n",
              "      <td>1</td>\n",
              "    </tr>\n",
              "    <tr>\n",
              "      <th>2</th>\n",
              "      <td>1</td>\n",
              "      <td>0</td>\n",
              "      <td>1</td>\n",
              "      <td>5</td>\n",
              "      <td>26</td>\n",
              "      <td>13</td>\n",
              "      <td>1</td>\n",
              "      <td>4</td>\n",
              "      <td>0</td>\n",
              "      <td>1</td>\n",
              "      <td>0</td>\n",
              "      <td>5</td>\n",
              "      <td>5</td>\n",
              "      <td>0</td>\n",
              "      <td>1</td>\n",
              "      <td>5</td>\n",
              "      <td>5</td>\n",
              "      <td>1</td>\n",
              "      <td>1</td>\n",
              "      <td>1</td>\n",
              "    </tr>\n",
              "    <tr>\n",
              "      <th>3</th>\n",
              "      <td>1</td>\n",
              "      <td>0</td>\n",
              "      <td>0</td>\n",
              "      <td>3</td>\n",
              "      <td>34</td>\n",
              "      <td>13</td>\n",
              "      <td>1</td>\n",
              "      <td>4</td>\n",
              "      <td>0</td>\n",
              "      <td>1</td>\n",
              "      <td>0</td>\n",
              "      <td>2</td>\n",
              "      <td>4</td>\n",
              "      <td>1</td>\n",
              "      <td>1</td>\n",
              "      <td>4</td>\n",
              "      <td>3</td>\n",
              "      <td>1</td>\n",
              "      <td>2</td>\n",
              "      <td>1</td>\n",
              "    </tr>\n",
              "    <tr>\n",
              "      <th>4</th>\n",
              "      <td>1</td>\n",
              "      <td>0</td>\n",
              "      <td>0</td>\n",
              "      <td>2</td>\n",
              "      <td>8</td>\n",
              "      <td>13</td>\n",
              "      <td>1</td>\n",
              "      <td>4</td>\n",
              "      <td>1</td>\n",
              "      <td>2</td>\n",
              "      <td>2</td>\n",
              "      <td>5</td>\n",
              "      <td>2</td>\n",
              "      <td>1</td>\n",
              "      <td>2</td>\n",
              "      <td>4</td>\n",
              "      <td>2</td>\n",
              "      <td>1</td>\n",
              "      <td>1</td>\n",
              "      <td>1</td>\n",
              "    </tr>\n",
              "    <tr>\n",
              "      <th>5</th>\n",
              "      <td>3</td>\n",
              "      <td>1</td>\n",
              "      <td>0</td>\n",
              "      <td>2</td>\n",
              "      <td>13</td>\n",
              "      <td>13</td>\n",
              "      <td>1</td>\n",
              "      <td>1</td>\n",
              "      <td>3</td>\n",
              "      <td>1</td>\n",
              "      <td>1</td>\n",
              "      <td>2</td>\n",
              "      <td>5</td>\n",
              "      <td>3</td>\n",
              "      <td>2</td>\n",
              "      <td>1</td>\n",
              "      <td>4</td>\n",
              "      <td>2</td>\n",
              "      <td>2</td>\n",
              "      <td>2</td>\n",
              "    </tr>\n",
              "  </tbody>\n",
              "</table>\n",
              "</div>"
            ],
            "text/plain": [
              "   Age  Gender  Marital_status  ...  Cost_rest_month  Food_type  Street_or_resturant\n",
              "0    1       0               1  ...                2          2                    1\n",
              "1    1       0               1  ...                1          2                    1\n",
              "2    1       0               1  ...                1          1                    1\n",
              "3    1       0               0  ...                1          2                    1\n",
              "4    1       0               0  ...                1          1                    1\n",
              "5    3       1               0  ...                2          2                    2\n",
              "\n",
              "[6 rows x 20 columns]"
            ]
          },
          "metadata": {
            "tags": []
          },
          "execution_count": 273
        }
      ]
    },
    {
      "cell_type": "code",
      "metadata": {
        "id": "HdyHwI_bWWXQ"
      },
      "source": [
        "# dummies = pd.get_dummies(df['Gender'])\n",
        "# dummies.head()"
      ],
      "execution_count": null,
      "outputs": []
    },
    {
      "cell_type": "code",
      "metadata": {
        "id": "ep7CwBEHWn-w"
      },
      "source": [
        "# df = pd.concat([df,dummies],axis=1)\n",
        "# df.head()"
      ],
      "execution_count": null,
      "outputs": []
    },
    {
      "cell_type": "code",
      "metadata": {
        "colab": {
          "base_uri": "https://localhost:8080/"
        },
        "id": "nY1O1aXNWn7X",
        "outputId": "8f7c94ca-ae3b-4a20-fc72-10bbe07056fa"
      },
      "source": [
        "df.columns[df.isna().any()]"
      ],
      "execution_count": null,
      "outputs": [
        {
          "output_type": "execute_result",
          "data": {
            "text/plain": [
              "Index([], dtype='object')"
            ]
          },
          "metadata": {
            "tags": []
          },
          "execution_count": 276
        }
      ]
    },
    {
      "cell_type": "code",
      "metadata": {
        "colab": {
          "base_uri": "https://localhost:8080/"
        },
        "id": "P3VUy2PVAyDY",
        "outputId": "a9d81887-6c5d-4a82-dab8-e600f206784e"
      },
      "source": [
        "df.groupby('Living_Town').size()"
      ],
      "execution_count": null,
      "outputs": [
        {
          "output_type": "execute_result",
          "data": {
            "text/plain": [
              "Living_Town\n",
              "3       4\n",
              "5      26\n",
              "6       6\n",
              "8       4\n",
              "9       2\n",
              "11      2\n",
              "12      2\n",
              "13    182\n",
              "15      4\n",
              "18     26\n",
              "21      6\n",
              "22      2\n",
              "24      4\n",
              "25      4\n",
              "28      8\n",
              "29      2\n",
              "30      2\n",
              "31      2\n",
              "32      2\n",
              "35      6\n",
              "37      2\n",
              "38      2\n",
              "39     22\n",
              "40      4\n",
              "41      2\n",
              "43      4\n",
              "44      2\n",
              "47      2\n",
              "50      2\n",
              "52      8\n",
              "53      4\n",
              "58      6\n",
              "59     24\n",
              "62     42\n",
              "dtype: int64"
            ]
          },
          "metadata": {
            "tags": []
          },
          "execution_count": 343
        }
      ]
    },
    {
      "cell_type": "markdown",
      "metadata": {
        "id": "eLXXnbi3JlVl"
      },
      "source": [
        "#**Visualization**"
      ]
    },
    {
      "cell_type": "code",
      "metadata": {
        "id": "VMNxko0798-J"
      },
      "source": [
        "import matplotlib.pyplot as plt\n",
        "%matplotlib inline\n"
      ],
      "execution_count": null,
      "outputs": []
    },
    {
      "cell_type": "code",
      "metadata": {
        "id": "fHBEFpi1-9Lo"
      },
      "source": [
        "def bar_chart(feature):\n",
        "    Fast_food = df[df['Food_type']==1][feature].value_counts()\n",
        "    TBF = df[df['Food_type']==2][feature].value_counts()\n",
        "    others = df[df['Food_type']==3][feature].value_counts()\n",
        "    dff = pd.DataFrame([Fast_food,TBF,others])\n",
        "    dff.index = ['Fast food','TBF','Others']\n",
        "    dff.plot(kind='bar',stacked=True, figsize=(10,5))"
      ],
      "execution_count": null,
      "outputs": []
    },
    {
      "cell_type": "code",
      "metadata": {
        "id": "BA9q7gisKCLE",
        "colab": {
          "base_uri": "https://localhost:8080/"
        },
        "outputId": "aa5c897d-f56a-4448-a974-cf534ac55220"
      },
      "source": [
        "df.columns"
      ],
      "execution_count": null,
      "outputs": [
        {
          "output_type": "execute_result",
          "data": {
            "text/plain": [
              "Index(['Age', 'Gender', 'Marital_status', 'Division', 'Home_town',\n",
              "       'Living_Town', 'Is_urban', 'Work', 'Income',\n",
              "       'take_food_from_restuarent_month', 'Order_food_from_online_month',\n",
              "       'Spicy', 'Sweet', 'Preferable_price_BDT', 'New_recipe', 'Street_food',\n",
              "       'Restuarent_food', 'Cost_rest_month', 'Food_type',\n",
              "       'Street_or_resturant'],\n",
              "      dtype='object')"
            ]
          },
          "metadata": {
            "tags": []
          },
          "execution_count": 279
        }
      ]
    },
    {
      "cell_type": "code",
      "metadata": {
        "id": "ibqPzi8uC7fn",
        "colab": {
          "base_uri": "https://localhost:8080/",
          "height": 364
        },
        "outputId": "b9aed5af-6924-422a-8608-79bcd872bbf9"
      },
      "source": [
        "bar_chart('Age')"
      ],
      "execution_count": null,
      "outputs": [
        {
          "output_type": "display_data",
          "data": {
            "image/png": "[encoded data removed]",
            "text/plain": [
              "<Figure size 720x360 with 1 Axes>"
            ]
          },
          "metadata": {
            "tags": [],
            "needs_background": "light"
          }
        }
      ]
    },
    {
      "cell_type": "code",
      "metadata": {
        "id": "xS_Zf5BvJzv2",
        "colab": {
          "base_uri": "https://localhost:8080/",
          "height": 364
        },
        "outputId": "864f3011-099b-46e8-c297-986adf9a5db1"
      },
      "source": [
        "bar_chart('Gender')"
      ],
      "execution_count": null,
      "outputs": [
        {
          "output_type": "display_data",
          "data": {
            "image/png": "[encoded data removed]",
            "text/plain": [
              "<Figure size 720x360 with 1 Axes>"
            ]
          },
          "metadata": {
            "tags": [],
            "needs_background": "light"
          }
        }
      ]
    },
    {
      "cell_type": "code",
      "metadata": {
        "id": "brWXFvN9J-G9",
        "colab": {
          "base_uri": "https://localhost:8080/",
          "height": 364
        },
        "outputId": "19b9cf71-c6ab-468c-b1d5-d00cb105084e"
      },
      "source": [
        "bar_chart('Marital_status')"
      ],
      "execution_count": null,
      "outputs": [
        {
          "output_type": "display_data",
          "data": {
            "image/png": "[encoded data removed]",
            "text/plain": [
              "<Figure size 720x360 with 1 Axes>"
            ]
          },
          "metadata": {
            "tags": [],
            "needs_background": "light"
          }
        }
      ]
    },
    {
      "cell_type": "code",
      "metadata": {
        "id": "G5_CtdGIKIHh",
        "colab": {
          "base_uri": "https://localhost:8080/",
          "height": 364
        },
        "outputId": "0d46caf4-f39d-4d51-ac2c-87633c69e8de"
      },
      "source": [
        "bar_chart('Division')"
      ],
      "execution_count": null,
      "outputs": [
        {
          "output_type": "display_data",
          "data": {
            "image/png": "[encoded data removed]",
            "text/plain": [
              "<Figure size 720x360 with 1 Axes>"
            ]
          },
          "metadata": {
            "tags": [],
            "needs_background": "light"
          }
        }
      ]
    },
    {
      "cell_type": "code",
      "metadata": {
        "id": "xiUyQf0OKH_M",
        "colab": {
          "base_uri": "https://localhost:8080/",
          "height": 828
        },
        "outputId": "19bbbbba-7cb2-473a-b06a-9a39f4004e98"
      },
      "source": [
        "bar_chart('Home_town')"
      ],
      "execution_count": null,
      "outputs": [
        {
          "output_type": "display_data",
          "data": {
            "image/png": "[encoded data removed]",
            "text/plain": [
              "<Figure size 720x360 with 1 Axes>"
            ]
          },
          "metadata": {
            "tags": [],
            "needs_background": "light"
          }
        }
      ]
    },
    {
      "cell_type": "code",
      "metadata": {
        "id": "-Ko_de5CKHrI",
        "colab": {
          "base_uri": "https://localhost:8080/",
          "height": 364
        },
        "outputId": "3ea24b43-c144-4512-90b5-7e4ba4610714"
      },
      "source": [
        "bar_chart('Is_urban')"
      ],
      "execution_count": null,
      "outputs": [
        {
          "output_type": "display_data",
          "data": {
            "image/png": "[encoded data removed]",
            "text/plain": [
              "<Figure size 720x360 with 1 Axes>"
            ]
          },
          "metadata": {
            "tags": [],
            "needs_background": "light"
          }
        }
      ]
    },
    {
      "cell_type": "code",
      "metadata": {
        "id": "0JZGLeDeKXED",
        "colab": {
          "base_uri": "https://localhost:8080/",
          "height": 364
        },
        "outputId": "c75c159a-7e16-479c-a8e8-5e126993bf0a"
      },
      "source": [
        "bar_chart('Work')"
      ],
      "execution_count": null,
      "outputs": [
        {
          "output_type": "display_data",
          "data": {
            "image/png": "[encoded data removed]",
            "text/plain": [
              "<Figure size 720x360 with 1 Axes>"
            ]
          },
          "metadata": {
            "tags": [],
            "needs_background": "light"
          }
        }
      ]
    },
    {
      "cell_type": "code",
      "metadata": {
        "id": "YgIQuJGfKXBv",
        "colab": {
          "base_uri": "https://localhost:8080/",
          "height": 364
        },
        "outputId": "506593f0-682b-46e1-fce0-14249234696d"
      },
      "source": [
        "bar_chart('Income')"
      ],
      "execution_count": null,
      "outputs": [
        {
          "output_type": "display_data",
          "data": {
            "image/png": "[encoded data removed]",
            "text/plain": [
              "<Figure size 720x360 with 1 Axes>"
            ]
          },
          "metadata": {
            "tags": [],
            "needs_background": "light"
          }
        }
      ]
    },
    {
      "cell_type": "code",
      "metadata": {
        "id": "RjBd_VVQKW_L",
        "colab": {
          "base_uri": "https://localhost:8080/",
          "height": 364
        },
        "outputId": "eff2ffb9-dc9c-4e2a-f79b-f87dd8b852cb"
      },
      "source": [
        "bar_chart('take_food_from_restuarent_month')"
      ],
      "execution_count": null,
      "outputs": [
        {
          "output_type": "display_data",
          "data": {
            "image/png": "[encoded data removed]",
            "text/plain": [
              "<Figure size 720x360 with 1 Axes>"
            ]
          },
          "metadata": {
            "tags": [],
            "needs_background": "light"
          }
        }
      ]
    },
    {
      "cell_type": "code",
      "metadata": {
        "id": "WJG69aVoKW8z",
        "colab": {
          "base_uri": "https://localhost:8080/",
          "height": 364
        },
        "outputId": "40700d7a-a8e0-4ecf-b472-f2a871ccd2c7"
      },
      "source": [
        "bar_chart('Order_food_from_online_month')"
      ],
      "execution_count": null,
      "outputs": [
        {
          "output_type": "display_data",
          "data": {
            "image/png": "[encoded data removed]",
            "text/plain": [
              "<Figure size 720x360 with 1 Axes>"
            ]
          },
          "metadata": {
            "tags": [],
            "needs_background": "light"
          }
        }
      ]
    },
    {
      "cell_type": "code",
      "metadata": {
        "id": "dLF40_q9KW6U",
        "colab": {
          "base_uri": "https://localhost:8080/",
          "height": 364
        },
        "outputId": "36d63400-f865-47fa-ae14-e245a2b9877a"
      },
      "source": [
        "bar_chart('Spicy')"
      ],
      "execution_count": null,
      "outputs": [
        {
          "output_type": "display_data",
          "data": {
            "image/png": "[encoded data removed]",
            "text/plain": [
              "<Figure size 720x360 with 1 Axes>"
            ]
          },
          "metadata": {
            "tags": [],
            "needs_background": "light"
          }
        }
      ]
    },
    {
      "cell_type": "code",
      "metadata": {
        "id": "_s46f1uxKW1s",
        "colab": {
          "base_uri": "https://localhost:8080/",
          "height": 364
        },
        "outputId": "8a6e8d64-59ad-4cad-d114-bc7d7aaa85c4"
      },
      "source": [
        "bar_chart('Sweet')"
      ],
      "execution_count": null,
      "outputs": [
        {
          "output_type": "display_data",
          "data": {
            "image/png": "[encoded data removed]",
            "text/plain": [
              "<Figure size 720x360 with 1 Axes>"
            ]
          },
          "metadata": {
            "tags": [],
            "needs_background": "light"
          }
        }
      ]
    },
    {
      "cell_type": "code",
      "metadata": {
        "id": "Rj6yZWPXKWxE",
        "colab": {
          "base_uri": "https://localhost:8080/",
          "height": 364
        },
        "outputId": "388ed685-6cda-4730-eb50-122467ad44b5"
      },
      "source": [
        "bar_chart('Preferable_price_BDT')"
      ],
      "execution_count": null,
      "outputs": [
        {
          "output_type": "display_data",
          "data": {
            "image/png": "[encoded data removed]",
            "text/plain": [
              "<Figure size 720x360 with 1 Axes>"
            ]
          },
          "metadata": {
            "tags": [],
            "needs_background": "light"
          }
        }
      ]
    },
    {
      "cell_type": "code",
      "metadata": {
        "id": "Y2a3AFdHLAFj",
        "colab": {
          "base_uri": "https://localhost:8080/",
          "height": 364
        },
        "outputId": "90579138-35f8-466a-a1d8-9ad2092ab30a"
      },
      "source": [
        "bar_chart('New_recipe')"
      ],
      "execution_count": null,
      "outputs": [
        {
          "output_type": "display_data",
          "data": {
            "image/png": "[encoded data removed]",
            "text/plain": [
              "<Figure size 720x360 with 1 Axes>"
            ]
          },
          "metadata": {
            "tags": [],
            "needs_background": "light"
          }
        }
      ]
    },
    {
      "cell_type": "code",
      "metadata": {
        "id": "wXUMOnppK_-4",
        "colab": {
          "base_uri": "https://localhost:8080/",
          "height": 364
        },
        "outputId": "877886de-09bb-40b5-a02c-6211b7967c99"
      },
      "source": [
        "bar_chart('Street_food')"
      ],
      "execution_count": null,
      "outputs": [
        {
          "output_type": "display_data",
          "data": {
            "image/png": "[encoded data removed]",
            "text/plain": [
              "<Figure size 720x360 with 1 Axes>"
            ]
          },
          "metadata": {
            "tags": [],
            "needs_background": "light"
          }
        }
      ]
    },
    {
      "cell_type": "code",
      "metadata": {
        "id": "Has-wm7YK_2F",
        "colab": {
          "base_uri": "https://localhost:8080/",
          "height": 364
        },
        "outputId": "02f61faf-61e7-4404-f003-26f04879b001"
      },
      "source": [
        "bar_chart('Restuarent_food')"
      ],
      "execution_count": null,
      "outputs": [
        {
          "output_type": "display_data",
          "data": {
            "image/png": "[encoded data removed]",
            "text/plain": [
              "<Figure size 720x360 with 1 Axes>"
            ]
          },
          "metadata": {
            "tags": [],
            "needs_background": "light"
          }
        }
      ]
    },
    {
      "cell_type": "code",
      "metadata": {
        "id": "wSKu1e7XKWot",
        "colab": {
          "base_uri": "https://localhost:8080/",
          "height": 364
        },
        "outputId": "6d5568c8-74c3-40a7-d745-24e838d19c0a"
      },
      "source": [
        "bar_chart('Cost_rest_month')"
      ],
      "execution_count": null,
      "outputs": [
        {
          "output_type": "display_data",
          "data": {
            "image/png": "[encoded data removed]",
            "text/plain": [
              "<Figure size 720x360 with 1 Axes>"
            ]
          },
          "metadata": {
            "tags": [],
            "needs_background": "light"
          }
        }
      ]
    },
    {
      "cell_type": "code",
      "metadata": {
        "id": "9neH08wcLq42",
        "colab": {
          "base_uri": "https://localhost:8080/",
          "height": 364
        },
        "outputId": "028af788-ba4b-4a33-f4f7-ba7e554ea322"
      },
      "source": [
        "bar_chart('Street_or_resturant')"
      ],
      "execution_count": null,
      "outputs": [
        {
          "output_type": "display_data",
          "data": {
            "image/png": "[encoded data removed]",
            "text/plain": [
              "<Figure size 720x360 with 1 Axes>"
            ]
          },
          "metadata": {
            "tags": [],
            "needs_background": "light"
          }
        }
      ]
    },
    {
      "cell_type": "code",
      "metadata": {
        "id": "84_UTTRRLqlb"
      },
      "source": [
        "def scatter_diagram(feature):\n",
        "  plt.scatter(df[feature],df['Food_type'])\n",
        "  plt.xlabel(feature)\n",
        "  plt.ylabel(\"Food type\")\n",
        "  plt.show()"
      ],
      "execution_count": null,
      "outputs": []
    },
    {
      "cell_type": "code",
      "metadata": {
        "id": "u6dk9OAoO44f",
        "colab": {
          "base_uri": "https://localhost:8080/",
          "height": 285
        },
        "outputId": "6c141cd6-976f-4b5e-e7f9-35b737477b56"
      },
      "source": [
        "scatter_diagram('Age')"
      ],
      "execution_count": null,
      "outputs": [
        {
          "output_type": "display_data",
          "data": {
            "image/png": "[encoded data removed]",
            "text/plain": [
              "<Figure size 432x288 with 1 Axes>"
            ]
          },
          "metadata": {
            "tags": [],
            "needs_background": "light"
          }
        }
      ]
    },
    {
      "cell_type": "code",
      "metadata": {
        "id": "btJkTn49O6gh",
        "colab": {
          "base_uri": "https://localhost:8080/",
          "height": 285
        },
        "outputId": "41efde8f-d9f5-49e1-ad95-bd879ce76cde"
      },
      "source": [
        "scatter_diagram('Income')"
      ],
      "execution_count": null,
      "outputs": [
        {
          "output_type": "display_data",
          "data": {
            "image/png": "[encoded data removed]",
            "text/plain": [
              "<Figure size 432x288 with 1 Axes>"
            ]
          },
          "metadata": {
            "tags": [],
            "needs_background": "light"
          }
        }
      ]
    },
    {
      "cell_type": "code",
      "metadata": {
        "id": "Z9AgDg6GOsMr",
        "colab": {
          "base_uri": "https://localhost:8080/",
          "height": 285
        },
        "outputId": "61778baa-a2d1-4dbd-8e0c-f0d131d31d73"
      },
      "source": [
        "scatter_diagram('Work')"
      ],
      "execution_count": null,
      "outputs": [
        {
          "output_type": "display_data",
          "data": {
            "image/png": "[encoded data removed]",
            "text/plain": [
              "<Figure size 432x288 with 1 Axes>"
            ]
          },
          "metadata": {
            "tags": [],
            "needs_background": "light"
          }
        }
      ]
    },
    {
      "cell_type": "code",
      "metadata": {
        "id": "wHSPExBeLqgd"
      },
      "source": [
        "# df['Sweet']=np.float32(df['Sweet'])"
      ],
      "execution_count": null,
      "outputs": []
    },
    {
      "cell_type": "markdown",
      "metadata": {
        "id": "t88eqvzEJ0Ps"
      },
      "source": [
        "#**Preparing data for model**"
      ]
    },
    {
      "cell_type": "code",
      "metadata": {
        "id": "Knivw_7r_B7w"
      },
      "source": [
        "X = df.drop(['Food_type','Street_or_resturant'],axis=1)\n",
        "y = df['Food_type']"
      ],
      "execution_count": null,
      "outputs": []
    },
    {
      "cell_type": "code",
      "metadata": {
        "id": "-mD_0RehAKyg",
        "colab": {
          "base_uri": "https://localhost:8080/"
        },
        "outputId": "2a7bdda7-18e7-477e-ab6a-db9afbbff087"
      },
      "source": [
        "X.shape, y.shape"
      ],
      "execution_count": null,
      "outputs": [
        {
          "output_type": "execute_result",
          "data": {
            "text/plain": [
              "((422, 18), (422,))"
            ]
          },
          "metadata": {
            "tags": []
          },
          "execution_count": 368
        }
      ]
    },
    {
      "cell_type": "code",
      "metadata": {
        "id": "XcfSdE5B_XLI",
        "colab": {
          "base_uri": "https://localhost:8080/"
        },
        "outputId": "f28873fd-fb47-4d50-c4fc-c338c6265d17"
      },
      "source": [
        "X.columns"
      ],
      "execution_count": null,
      "outputs": [
        {
          "output_type": "execute_result",
          "data": {
            "text/plain": [
              "Index(['Age', 'Gender', 'Marital_status', 'Division', 'Home_town',\n",
              "       'Living_Town', 'Is_urban', 'Work', 'Income',\n",
              "       'take_food_from_restuarent_month', 'Order_food_from_online_month',\n",
              "       'Spicy', 'Sweet', 'Preferable_price_BDT', 'New_recipe', 'Street_food',\n",
              "       'Restuarent_food', 'Cost_rest_month'],\n",
              "      dtype='object')"
            ]
          },
          "metadata": {
            "tags": []
          },
          "execution_count": 369
        }
      ]
    },
    {
      "cell_type": "code",
      "metadata": {
        "id": "2W657Ud7DMcj",
        "colab": {
          "base_uri": "https://localhost:8080/"
        },
        "outputId": "bd2b172f-1722-48f0-9c1f-db412c33a380"
      },
      "source": [
        "X.info()"
      ],
      "execution_count": null,
      "outputs": [
        {
          "output_type": "stream",
          "text": [
            "<class 'pandas.core.frame.DataFrame'>\n",
            "RangeIndex: 422 entries, 0 to 421\n",
            "Data columns (total 18 columns):\n",
            " #   Column                           Non-Null Count  Dtype  \n",
            "---  ------                           --------------  -----  \n",
            " 0   Age                              422 non-null    int64  \n",
            " 1   Gender                           422 non-null    int64  \n",
            " 2   Marital_status                   422 non-null    int64  \n",
            " 3   Division                         422 non-null    int64  \n",
            " 4   Home_town                        422 non-null    int64  \n",
            " 5   Living_Town                      422 non-null    int64  \n",
            " 6   Is_urban                         422 non-null    int64  \n",
            " 7   Work                             422 non-null    int64  \n",
            " 8   Income                           422 non-null    int64  \n",
            " 9   take_food_from_restuarent_month  422 non-null    int64  \n",
            " 10  Order_food_from_online_month     422 non-null    int64  \n",
            " 11  Spicy                            422 non-null    int64  \n",
            " 12  Sweet                            422 non-null    float32\n",
            " 13  Preferable_price_BDT             422 non-null    int64  \n",
            " 14  New_recipe                       422 non-null    int64  \n",
            " 15  Street_food                      422 non-null    int64  \n",
            " 16  Restuarent_food                  422 non-null    int64  \n",
            " 17  Cost_rest_month                  422 non-null    int64  \n",
            "dtypes: float32(1), int64(17)\n",
            "memory usage: 57.8 KB\n"
          ],
          "name": "stdout"
        }
      ]
    },
    {
      "cell_type": "markdown",
      "metadata": {
        "id": "mxyg3TDOMKg2"
      },
      "source": [
        "#**Spliting data**"
      ]
    },
    {
      "cell_type": "code",
      "metadata": {
        "id": "zSCh08QVcu6f"
      },
      "source": [
        "from sklearn.model_selection import train_test_split\n",
        "import numpy as np"
      ],
      "execution_count": null,
      "outputs": []
    },
    {
      "cell_type": "code",
      "metadata": {
        "id": "ilk-Yw_MsZNs",
        "colab": {
          "base_uri": "https://localhost:8080/"
        },
        "outputId": "db6954a2-cb32-428c-c3d1-264dd9403bb6"
      },
      "source": [
        "x_train, x_test, y_train, y_test = train_test_split(X, y,test_size=.15,random_state=0)\n",
        "x_train.shape,y_train.shape"
      ],
      "execution_count": null,
      "outputs": [
        {
          "output_type": "execute_result",
          "data": {
            "text/plain": [
              "((358, 18), (358,))"
            ]
          },
          "metadata": {
            "tags": []
          },
          "execution_count": 372
        }
      ]
    },
    {
      "cell_type": "markdown",
      "metadata": {
        "id": "oMpy6o5DJ5FW"
      },
      "source": [
        "#**Desicion Tree**"
      ]
    },
    {
      "cell_type": "code",
      "metadata": {
        "id": "8s7nvRj4crnn"
      },
      "source": [
        "from sklearn.tree import DecisionTreeClassifier\n",
        "from sklearn import tree"
      ],
      "execution_count": null,
      "outputs": []
    },
    {
      "cell_type": "code",
      "metadata": {
        "id": "SE4ZcXI_sbqM"
      },
      "source": [
        "from sklearn.model_selection import KFold\n",
        "from sklearn.model_selection import cross_val_score\n",
        "k_fold = KFold(n_splits=10, shuffle=True, random_state=0)"
      ],
      "execution_count": null,
      "outputs": []
    },
    {
      "cell_type": "code",
      "metadata": {
        "id": "Fa1e6Hufsgqd",
        "colab": {
          "base_uri": "https://localhost:8080/"
        },
        "outputId": "8f6daa0c-323a-42b8-af3b-d7b25808e239"
      },
      "source": [
        "clf = DecisionTreeClassifier()\n",
        "scoring = 'accuracy'\n",
        "score = cross_val_score(clf, x_train, y_train, cv=k_fold, n_jobs=1, scoring=scoring,error_score='raise')\n",
        "print(score)"
      ],
      "execution_count": null,
      "outputs": [
        {
          "output_type": "stream",
          "text": [
            "[0.97222222 0.88888889 0.80555556 0.94444444 0.88888889 0.97222222\n",
            " 0.94444444 0.86111111 0.85714286 0.91428571]\n"
          ],
          "name": "stdout"
        }
      ]
    },
    {
      "cell_type": "code",
      "metadata": {
        "id": "epvbmE69sjrF",
        "colab": {
          "base_uri": "https://localhost:8080/"
        },
        "outputId": "ba0eeca2-85de-4baa-f4be-4aa1c3415077"
      },
      "source": [
        "round(np.mean(score)*100, 2)"
      ],
      "execution_count": null,
      "outputs": [
        {
          "output_type": "execute_result",
          "data": {
            "text/plain": [
              "90.49"
            ]
          },
          "metadata": {
            "tags": []
          },
          "execution_count": 414
        }
      ]
    },
    {
      "cell_type": "code",
      "metadata": {
        "id": "Hkk42sNlKqS7",
        "colab": {
          "base_uri": "https://localhost:8080/"
        },
        "outputId": "65a03a22-3995-464c-f112-4d03025f5d19"
      },
      "source": [
        "clf.fit(x_train,y_train)\n",
        "prediction = clf.predict(x_test)\n",
        "from sklearn.metrics import accuracy_score,classification_report, confusion_matrix\n",
        "accuracy_score(y_test, prediction)*100"
      ],
      "execution_count": null,
      "outputs": [
        {
          "output_type": "execute_result",
          "data": {
            "text/plain": [
              "93.75"
            ]
          },
          "metadata": {
            "tags": []
          },
          "execution_count": 416
        }
      ]
    },
    {
      "cell_type": "code",
      "metadata": {
        "id": "x2xFce0XKpYE",
        "colab": {
          "base_uri": "https://localhost:8080/"
        },
        "outputId": "bef0d126-01e3-49be-f563-44bd1471b6a3"
      },
      "source": [
        "print(\"Confusion Matrix -->\")\n",
        "cm = confusion_matrix(y_test, prediction)\n",
        "print(cm)\n",
        "print(\"Classification Report -->\")\n",
        "print(classification_report(y_test, prediction))"
      ],
      "execution_count": null,
      "outputs": [
        {
          "output_type": "stream",
          "text": [
            "Confusion Matrix -->\n",
            "[[29  4  0]\n",
            " [ 0 28  0]\n",
            " [ 0  0  3]]\n",
            "Classification Report -->\n",
            "              precision    recall  f1-score   support\n",
            "\n",
            "           1       1.00      0.88      0.94        33\n",
            "           2       0.88      1.00      0.93        28\n",
            "           3       1.00      1.00      1.00         3\n",
            "\n",
            "    accuracy                           0.94        64\n",
            "   macro avg       0.96      0.96      0.96        64\n",
            "weighted avg       0.95      0.94      0.94        64\n",
            "\n"
          ],
          "name": "stdout"
        }
      ]
    },
    {
      "cell_type": "code",
      "metadata": {
        "id": "f0ZpdThLLO6n",
        "colab": {
          "base_uri": "https://localhost:8080/",
          "height": 465
        },
        "outputId": "f0b94fdd-45ed-46aa-c027-f8a0d9bb2c32"
      },
      "source": [
        "import seaborn as sn\n",
        "sn.set()\n",
        "plt.figure(figsize=(10,7))\n",
        "sn.heatmap(cm,annot=True)\n",
        "plt.xlabel('Predicted')\n",
        "plt.ylabel('Truth')"
      ],
      "execution_count": null,
      "outputs": [
        {
          "output_type": "execute_result",
          "data": {
            "text/plain": [
              "Text(66.5, 0.5, 'Truth')"
            ]
          },
          "metadata": {
            "tags": []
          },
          "execution_count": 379
        },
        {
          "output_type": "display_data",
          "data": {
            "image/png": "[encoded data removed]",
            "text/plain": [
              "<Figure size 720x504 with 2 Axes>"
            ]
          },
          "metadata": {
            "tags": []
          }
        }
      ]
    },
    {
      "cell_type": "code",
      "metadata": {
        "colab": {
          "base_uri": "https://localhost:8080/"
        },
        "id": "o3zE5hqeKBiQ",
        "outputId": "a18de389-c762-458b-858b-14c3d0abc63b"
      },
      "source": [
        "# tree.plot_tree(clf)\n",
        "# clf.get_params"
      ],
      "execution_count": null,
      "outputs": [
        {
          "output_type": "execute_result",
          "data": {
            "text/plain": [
              "<bound method BaseEstimator.get_params of DecisionTreeClassifier(ccp_alpha=0.0, class_weight=None, criterion='gini',\n",
              "                       max_depth=None, max_features=None, max_leaf_nodes=None,\n",
              "                       min_impurity_decrease=0.0, min_impurity_split=None,\n",
              "                       min_samples_leaf=1, min_samples_split=2,\n",
              "                       min_weight_fraction_leaf=0.0, presort='deprecated',\n",
              "                       random_state=None, splitter='best')>"
            ]
          },
          "metadata": {
            "tags": []
          },
          "execution_count": 424
        }
      ]
    },
    {
      "cell_type": "markdown",
      "metadata": {
        "id": "yvcbq0DVKS34"
      },
      "source": [
        "#**Random forest**"
      ]
    },
    {
      "cell_type": "code",
      "metadata": {
        "id": "PFd1GpNBc5dP"
      },
      "source": [
        "from sklearn.ensemble import RandomForestClassifier"
      ],
      "execution_count": null,
      "outputs": []
    },
    {
      "cell_type": "code",
      "metadata": {
        "id": "CqXnveKUtDze",
        "colab": {
          "base_uri": "https://localhost:8080/"
        },
        "outputId": "6c0f3a97-ab64-4d23-ab6a-df53600250a4"
      },
      "source": [
        "clf = RandomForestClassifier(n_estimators=13)\n",
        "scoring = 'accuracy'\n",
        "score = cross_val_score(clf, X, y, cv=k_fold, n_jobs=1, scoring=scoring)\n",
        "print(score)"
      ],
      "execution_count": null,
      "outputs": [
        {
          "output_type": "stream",
          "text": [
            "[1.         1.         1.         0.95238095 0.9047619  0.95238095\n",
            " 1.         0.9047619  0.97619048 0.92857143]\n"
          ],
          "name": "stdout"
        }
      ]
    },
    {
      "cell_type": "code",
      "metadata": {
        "id": "hGLojxW8tFv8",
        "colab": {
          "base_uri": "https://localhost:8080/"
        },
        "outputId": "ca3faf01-cfd5-440c-8b96-8423cfe29716"
      },
      "source": [
        "round(np.mean(score)*100, 2)"
      ],
      "execution_count": null,
      "outputs": [
        {
          "output_type": "execute_result",
          "data": {
            "text/plain": [
              "96.19"
            ]
          },
          "metadata": {
            "tags": []
          },
          "execution_count": 382
        }
      ]
    },
    {
      "cell_type": "code",
      "metadata": {
        "id": "kqhSanqJtIBt"
      },
      "source": [
        "clf = RandomForestClassifier(n_estimators=13)\n",
        "clf.fit(x_train, y_train)\n",
        "\n",
        "prediction = clf.predict(x_test)"
      ],
      "execution_count": null,
      "outputs": []
    },
    {
      "cell_type": "code",
      "metadata": {
        "id": "_XUzqX44tK79",
        "colab": {
          "base_uri": "https://localhost:8080/"
        },
        "outputId": "a2d35785-5c36-4e0a-f81d-be7a1a098f41"
      },
      "source": [
        "from sklearn.metrics import accuracy_score,classification_report, confusion_matrix\n",
        "accuracy_score(y_test, prediction)*100"
      ],
      "execution_count": null,
      "outputs": [
        {
          "output_type": "execute_result",
          "data": {
            "text/plain": [
              "95.3125"
            ]
          },
          "metadata": {
            "tags": []
          },
          "execution_count": 386
        }
      ]
    },
    {
      "cell_type": "code",
      "metadata": {
        "id": "ssBooU-UtMyM",
        "colab": {
          "base_uri": "https://localhost:8080/"
        },
        "outputId": "f35d80de-71aa-42c6-e4de-c9a54145e285"
      },
      "source": [
        "print(\"Confusion Matrix -->\")\n",
        "cmr = confusion_matrix(y_test, prediction)\n",
        "print(cmr)\n",
        "\n",
        "print(\"Classification Report -->\")\n",
        "print(classification_report(y_test, prediction))"
      ],
      "execution_count": null,
      "outputs": [
        {
          "output_type": "stream",
          "text": [
            "Confusion Matrix -->\n",
            "[[31  2  0]\n",
            " [ 1 27  0]\n",
            " [ 0  0  3]]\n",
            "Classification Report -->\n",
            "              precision    recall  f1-score   support\n",
            "\n",
            "           1       0.97      0.94      0.95        33\n",
            "           2       0.93      0.96      0.95        28\n",
            "           3       1.00      1.00      1.00         3\n",
            "\n",
            "    accuracy                           0.95        64\n",
            "   macro avg       0.97      0.97      0.97        64\n",
            "weighted avg       0.95      0.95      0.95        64\n",
            "\n"
          ],
          "name": "stdout"
        }
      ]
    },
    {
      "cell_type": "code",
      "metadata": {
        "id": "l7EHWRDaMMmI",
        "colab": {
          "base_uri": "https://localhost:8080/",
          "height": 465
        },
        "outputId": "ae58bea7-3ea7-4f23-f47b-c09d69b09ef4"
      },
      "source": [
        "import seaborn as sn\n",
        "sn.set()\n",
        "plt.figure(figsize=(10,7))\n",
        "sn.heatmap(cmr,annot=True)\n",
        "plt.xlabel('Predicted')\n",
        "plt.ylabel('Truth')"
      ],
      "execution_count": null,
      "outputs": [
        {
          "output_type": "execute_result",
          "data": {
            "text/plain": [
              "Text(66.5, 0.5, 'Truth')"
            ]
          },
          "metadata": {
            "tags": []
          },
          "execution_count": 388
        },
        {
          "output_type": "display_data",
          "data": {
            "image/png": "[encoded data removed]",
            "text/plain": [
              "<Figure size 720x504 with 2 Axes>"
            ]
          },
          "metadata": {
            "tags": []
          }
        }
      ]
    },
    {
      "cell_type": "markdown",
      "metadata": {
        "id": "363WSQgkM4zA"
      },
      "source": [
        "#**CNN**"
      ]
    },
    {
      "cell_type": "code",
      "metadata": {
        "colab": {
          "base_uri": "https://localhost:8080/"
        },
        "id": "GKrxOKBqi9dM",
        "outputId": "5b1a8b6c-b997-40ad-b2b2-e4ed0b5cf645"
      },
      "source": [
        "cnndataX = x_train.copy() \n",
        "cnndataY = y_train.copy()\n",
        "cnndataX.shape, cnndataY.shape"
      ],
      "execution_count": null,
      "outputs": [
        {
          "output_type": "execute_result",
          "data": {
            "text/plain": [
              "((358, 15), (358,))"
            ]
          },
          "metadata": {
            "tags": []
          },
          "execution_count": 323
        }
      ]
    },
    {
      "cell_type": "code",
      "metadata": {
        "colab": {
          "base_uri": "https://localhost:8080/",
          "height": 224
        },
        "id": "xOohgImcj_zw",
        "outputId": "fdd282f7-284a-4c0b-d457-a833d1989580"
      },
      "source": [
        "cnndataX.head()"
      ],
      "execution_count": null,
      "outputs": [
        {
          "output_type": "execute_result",
          "data": {
            "text/html": [
              "<div>\n",
              "<style scoped>\n",
              "    .dataframe tbody tr th:only-of-type {\n",
              "        vertical-align: middle;\n",
              "    }\n",
              "\n",
              "    .dataframe tbody tr th {\n",
              "        vertical-align: top;\n",
              "    }\n",
              "\n",
              "    .dataframe thead th {\n",
              "        text-align: right;\n",
              "    }\n",
              "</style>\n",
              "<table border=\"1\" class=\"dataframe\">\n",
              "  <thead>\n",
              "    <tr style=\"text-align: right;\">\n",
              "      <th></th>\n",
              "      <th>Age</th>\n",
              "      <th>Gender</th>\n",
              "      <th>Marital_status</th>\n",
              "      <th>Division</th>\n",
              "      <th>Is_urban</th>\n",
              "      <th>Work</th>\n",
              "      <th>Income</th>\n",
              "      <th>take_food_from_restuarent_month</th>\n",
              "      <th>Order_food_from_online_month</th>\n",
              "      <th>Spicy</th>\n",
              "      <th>Sweet</th>\n",
              "      <th>Preferable_price_BDT</th>\n",
              "      <th>New_recipe</th>\n",
              "      <th>Cost_rest_month</th>\n",
              "      <th>Street_or_resturant</th>\n",
              "    </tr>\n",
              "  </thead>\n",
              "  <tbody>\n",
              "    <tr>\n",
              "      <th>141</th>\n",
              "      <td>1</td>\n",
              "      <td>0</td>\n",
              "      <td>1</td>\n",
              "      <td>4</td>\n",
              "      <td>1</td>\n",
              "      <td>4</td>\n",
              "      <td>0</td>\n",
              "      <td>1</td>\n",
              "      <td>0</td>\n",
              "      <td>3</td>\n",
              "      <td>4.0</td>\n",
              "      <td>2</td>\n",
              "      <td>1</td>\n",
              "      <td>1</td>\n",
              "      <td>1</td>\n",
              "    </tr>\n",
              "    <tr>\n",
              "      <th>318</th>\n",
              "      <td>1</td>\n",
              "      <td>0</td>\n",
              "      <td>1</td>\n",
              "      <td>1</td>\n",
              "      <td>1</td>\n",
              "      <td>1</td>\n",
              "      <td>1</td>\n",
              "      <td>2</td>\n",
              "      <td>1</td>\n",
              "      <td>4</td>\n",
              "      <td>3.0</td>\n",
              "      <td>1</td>\n",
              "      <td>1</td>\n",
              "      <td>2</td>\n",
              "      <td>1</td>\n",
              "    </tr>\n",
              "    <tr>\n",
              "      <th>385</th>\n",
              "      <td>1</td>\n",
              "      <td>0</td>\n",
              "      <td>1</td>\n",
              "      <td>5</td>\n",
              "      <td>1</td>\n",
              "      <td>4</td>\n",
              "      <td>0</td>\n",
              "      <td>2</td>\n",
              "      <td>1</td>\n",
              "      <td>5</td>\n",
              "      <td>5.0</td>\n",
              "      <td>3</td>\n",
              "      <td>1</td>\n",
              "      <td>1</td>\n",
              "      <td>2</td>\n",
              "    </tr>\n",
              "    <tr>\n",
              "      <th>174</th>\n",
              "      <td>1</td>\n",
              "      <td>0</td>\n",
              "      <td>1</td>\n",
              "      <td>5</td>\n",
              "      <td>1</td>\n",
              "      <td>4</td>\n",
              "      <td>0</td>\n",
              "      <td>2</td>\n",
              "      <td>1</td>\n",
              "      <td>5</td>\n",
              "      <td>5.0</td>\n",
              "      <td>3</td>\n",
              "      <td>1</td>\n",
              "      <td>1</td>\n",
              "      <td>2</td>\n",
              "    </tr>\n",
              "    <tr>\n",
              "      <th>67</th>\n",
              "      <td>1</td>\n",
              "      <td>0</td>\n",
              "      <td>1</td>\n",
              "      <td>2</td>\n",
              "      <td>2</td>\n",
              "      <td>4</td>\n",
              "      <td>0</td>\n",
              "      <td>4</td>\n",
              "      <td>0</td>\n",
              "      <td>3</td>\n",
              "      <td>5.0</td>\n",
              "      <td>1</td>\n",
              "      <td>1</td>\n",
              "      <td>3</td>\n",
              "      <td>1</td>\n",
              "    </tr>\n",
              "  </tbody>\n",
              "</table>\n",
              "</div>"
            ],
            "text/plain": [
              "     Age  Gender  ...  Cost_rest_month  Street_or_resturant\n",
              "141    1       0  ...                1                    1\n",
              "318    1       0  ...                2                    1\n",
              "385    1       0  ...                1                    2\n",
              "174    1       0  ...                1                    2\n",
              "67     1       0  ...                3                    1\n",
              "\n",
              "[5 rows x 15 columns]"
            ]
          },
          "metadata": {
            "tags": []
          },
          "execution_count": 324
        }
      ]
    },
    {
      "cell_type": "code",
      "metadata": {
        "id": "pZnBtYsKkSa5"
      },
      "source": [
        "cnndataX['Age'] = cnndataX['Age']/3\n",
        "cnndataX['Division'] = cnndataX['Division'] / 7\n",
        "cnndataX['Work'] = cnndataX['Work'] / 5\n",
        "cnndataX['Income'] = cnndataX['Income'] / 4\n",
        "cnndataX['take_food_from_restuarent_month'] = cnndataX['take_food_from_restuarent_month'] / 4\n",
        "cnndataX['Order_food_from_online_month'] = cnndataX['Order_food_from_online_month'] / 4\n",
        "cnndataX['Spicy'] = cnndataX['Spicy'] / 5\n",
        "cnndataX['Sweet'] = cnndataX['Sweet'] / 5.0\n",
        "cnndataX['Preferable_price_BDT'] = cnndataX['Preferable_price_BDT'] / 5\n",
        "cnndataX['Cost_rest_month'] = cnndataX['Cost_rest_month'] / 3\n"
      ],
      "execution_count": null,
      "outputs": []
    },
    {
      "cell_type": "code",
      "metadata": {
        "colab": {
          "base_uri": "https://localhost:8080/",
          "height": 224
        },
        "id": "VusNU0SKmCl8",
        "outputId": "7e566995-5903-46b0-8ab7-de36c090a891"
      },
      "source": [
        "cnndataX.head()"
      ],
      "execution_count": null,
      "outputs": [
        {
          "output_type": "execute_result",
          "data": {
            "text/html": [
              "<div>\n",
              "<style scoped>\n",
              "    .dataframe tbody tr th:only-of-type {\n",
              "        vertical-align: middle;\n",
              "    }\n",
              "\n",
              "    .dataframe tbody tr th {\n",
              "        vertical-align: top;\n",
              "    }\n",
              "\n",
              "    .dataframe thead th {\n",
              "        text-align: right;\n",
              "    }\n",
              "</style>\n",
              "<table border=\"1\" class=\"dataframe\">\n",
              "  <thead>\n",
              "    <tr style=\"text-align: right;\">\n",
              "      <th></th>\n",
              "      <th>Age</th>\n",
              "      <th>Gender</th>\n",
              "      <th>Marital_status</th>\n",
              "      <th>Division</th>\n",
              "      <th>Is_urban</th>\n",
              "      <th>Work</th>\n",
              "      <th>Income</th>\n",
              "      <th>take_food_from_restuarent_month</th>\n",
              "      <th>Order_food_from_online_month</th>\n",
              "      <th>Spicy</th>\n",
              "      <th>Sweet</th>\n",
              "      <th>Preferable_price_BDT</th>\n",
              "      <th>New_recipe</th>\n",
              "      <th>Cost_rest_month</th>\n",
              "      <th>Street_or_resturant</th>\n",
              "    </tr>\n",
              "  </thead>\n",
              "  <tbody>\n",
              "    <tr>\n",
              "      <th>141</th>\n",
              "      <td>0.333333</td>\n",
              "      <td>0</td>\n",
              "      <td>1</td>\n",
              "      <td>0.571429</td>\n",
              "      <td>1</td>\n",
              "      <td>0.8</td>\n",
              "      <td>0.00</td>\n",
              "      <td>0.25</td>\n",
              "      <td>0.00</td>\n",
              "      <td>0.6</td>\n",
              "      <td>0.8</td>\n",
              "      <td>0.4</td>\n",
              "      <td>1</td>\n",
              "      <td>0.333333</td>\n",
              "      <td>1</td>\n",
              "    </tr>\n",
              "    <tr>\n",
              "      <th>318</th>\n",
              "      <td>0.333333</td>\n",
              "      <td>0</td>\n",
              "      <td>1</td>\n",
              "      <td>0.142857</td>\n",
              "      <td>1</td>\n",
              "      <td>0.2</td>\n",
              "      <td>0.25</td>\n",
              "      <td>0.50</td>\n",
              "      <td>0.25</td>\n",
              "      <td>0.8</td>\n",
              "      <td>0.6</td>\n",
              "      <td>0.2</td>\n",
              "      <td>1</td>\n",
              "      <td>0.666667</td>\n",
              "      <td>1</td>\n",
              "    </tr>\n",
              "    <tr>\n",
              "      <th>385</th>\n",
              "      <td>0.333333</td>\n",
              "      <td>0</td>\n",
              "      <td>1</td>\n",
              "      <td>0.714286</td>\n",
              "      <td>1</td>\n",
              "      <td>0.8</td>\n",
              "      <td>0.00</td>\n",
              "      <td>0.50</td>\n",
              "      <td>0.25</td>\n",
              "      <td>1.0</td>\n",
              "      <td>1.0</td>\n",
              "      <td>0.6</td>\n",
              "      <td>1</td>\n",
              "      <td>0.333333</td>\n",
              "      <td>2</td>\n",
              "    </tr>\n",
              "    <tr>\n",
              "      <th>174</th>\n",
              "      <td>0.333333</td>\n",
              "      <td>0</td>\n",
              "      <td>1</td>\n",
              "      <td>0.714286</td>\n",
              "      <td>1</td>\n",
              "      <td>0.8</td>\n",
              "      <td>0.00</td>\n",
              "      <td>0.50</td>\n",
              "      <td>0.25</td>\n",
              "      <td>1.0</td>\n",
              "      <td>1.0</td>\n",
              "      <td>0.6</td>\n",
              "      <td>1</td>\n",
              "      <td>0.333333</td>\n",
              "      <td>2</td>\n",
              "    </tr>\n",
              "    <tr>\n",
              "      <th>67</th>\n",
              "      <td>0.333333</td>\n",
              "      <td>0</td>\n",
              "      <td>1</td>\n",
              "      <td>0.285714</td>\n",
              "      <td>2</td>\n",
              "      <td>0.8</td>\n",
              "      <td>0.00</td>\n",
              "      <td>1.00</td>\n",
              "      <td>0.00</td>\n",
              "      <td>0.6</td>\n",
              "      <td>1.0</td>\n",
              "      <td>0.2</td>\n",
              "      <td>1</td>\n",
              "      <td>1.000000</td>\n",
              "      <td>1</td>\n",
              "    </tr>\n",
              "  </tbody>\n",
              "</table>\n",
              "</div>"
            ],
            "text/plain": [
              "          Age  Gender  ...  Cost_rest_month  Street_or_resturant\n",
              "141  0.333333       0  ...         0.333333                    1\n",
              "318  0.333333       0  ...         0.666667                    1\n",
              "385  0.333333       0  ...         0.333333                    2\n",
              "174  0.333333       0  ...         0.333333                    2\n",
              "67   0.333333       0  ...         1.000000                    1\n",
              "\n",
              "[5 rows x 15 columns]"
            ]
          },
          "metadata": {
            "tags": []
          },
          "execution_count": 326
        }
      ]
    },
    {
      "cell_type": "code",
      "metadata": {
        "id": "GV7mU5Y3t-Iq"
      },
      "source": [
        "import tensorflow as tf\n",
        "from tensorflow import keras"
      ],
      "execution_count": null,
      "outputs": []
    },
    {
      "cell_type": "code",
      "metadata": {
        "id": "Y4BSUrBsuBfl",
        "colab": {
          "base_uri": "https://localhost:8080/"
        },
        "outputId": "65634b7c-fc21-4494-b4de-9ecc3adae8e8"
      },
      "source": [
        "model = keras.Sequential([\n",
        "      keras.layers.Dense(64,input_shape=(15,),activation='relu',kernel_initializer='ones',bias_initializer='zeros'),\n",
        "      keras.layers.Dense(32,activation='relu'),\n",
        "      keras.layers.Dense(16,activation='relu'),\n",
        "      keras.layers.Dense(1,activation='sigmoid'),\n",
        "])\n",
        "\n",
        "model.compile(\n",
        "    optimizer='Adam',\n",
        "    loss='categorical_crossentropy',\n",
        "    metrics=['accuracy']\n",
        ")\n",
        "model.fit(cnndataX,cnndataY,epochs=50)"
      ],
      "execution_count": null,
      "outputs": [
        {
          "output_type": "stream",
          "text": [
            "Epoch 1/50\n",
            "12/12 [==============================] - 0s 2ms/step - loss: 0.0000e+00 - accuracy: 0.4119\n",
            "Epoch 2/50\n",
            "12/12 [==============================] - 0s 2ms/step - loss: 0.0000e+00 - accuracy: 0.4824\n",
            "Epoch 3/50\n",
            "12/12 [==============================] - 0s 2ms/step - loss: 0.0000e+00 - accuracy: 0.4566\n",
            "Epoch 4/50\n",
            "12/12 [==============================] - 0s 2ms/step - loss: 0.0000e+00 - accuracy: 0.4332\n",
            "Epoch 5/50\n",
            "12/12 [==============================] - 0s 2ms/step - loss: 0.0000e+00 - accuracy: 0.4270\n",
            "Epoch 6/50\n",
            "12/12 [==============================] - 0s 2ms/step - loss: 0.0000e+00 - accuracy: 0.4407\n",
            "Epoch 7/50\n",
            "12/12 [==============================] - 0s 2ms/step - loss: 0.0000e+00 - accuracy: 0.4682\n",
            "Epoch 8/50\n",
            "12/12 [==============================] - 0s 2ms/step - loss: 0.0000e+00 - accuracy: 0.4560\n",
            "Epoch 9/50\n",
            "12/12 [==============================] - 0s 2ms/step - loss: 0.0000e+00 - accuracy: 0.3938\n",
            "Epoch 10/50\n",
            "12/12 [==============================] - 0s 2ms/step - loss: 0.0000e+00 - accuracy: 0.4657\n",
            "Epoch 11/50\n",
            "12/12 [==============================] - 0s 2ms/step - loss: 0.0000e+00 - accuracy: 0.4605\n",
            "Epoch 12/50\n",
            "12/12 [==============================] - 0s 2ms/step - loss: 0.0000e+00 - accuracy: 0.4766\n",
            "Epoch 13/50\n",
            "12/12 [==============================] - 0s 2ms/step - loss: 0.0000e+00 - accuracy: 0.4305\n",
            "Epoch 14/50\n",
            "12/12 [==============================] - 0s 2ms/step - loss: 0.0000e+00 - accuracy: 0.4430\n",
            "Epoch 15/50\n",
            "12/12 [==============================] - 0s 2ms/step - loss: 0.0000e+00 - accuracy: 0.4217\n",
            "Epoch 16/50\n",
            "12/12 [==============================] - 0s 2ms/step - loss: 0.0000e+00 - accuracy: 0.4164\n",
            "Epoch 17/50\n",
            "12/12 [==============================] - 0s 2ms/step - loss: 0.0000e+00 - accuracy: 0.4317\n",
            "Epoch 18/50\n",
            "12/12 [==============================] - 0s 3ms/step - loss: 0.0000e+00 - accuracy: 0.4800\n",
            "Epoch 19/50\n",
            "12/12 [==============================] - 0s 2ms/step - loss: 0.0000e+00 - accuracy: 0.4626\n",
            "Epoch 20/50\n",
            "12/12 [==============================] - 0s 3ms/step - loss: 0.0000e+00 - accuracy: 0.4305\n",
            "Epoch 21/50\n",
            "12/12 [==============================] - 0s 2ms/step - loss: 0.0000e+00 - accuracy: 0.4517\n",
            "Epoch 22/50\n",
            "12/12 [==============================] - 0s 2ms/step - loss: 0.0000e+00 - accuracy: 0.4689\n",
            "Epoch 23/50\n",
            "12/12 [==============================] - 0s 2ms/step - loss: 0.0000e+00 - accuracy: 0.4021\n",
            "Epoch 24/50\n",
            "12/12 [==============================] - 0s 2ms/step - loss: 0.0000e+00 - accuracy: 0.4662\n",
            "Epoch 25/50\n",
            "12/12 [==============================] - 0s 2ms/step - loss: 0.0000e+00 - accuracy: 0.4463\n",
            "Epoch 26/50\n",
            "12/12 [==============================] - 0s 2ms/step - loss: 0.0000e+00 - accuracy: 0.4344\n",
            "Epoch 27/50\n",
            "12/12 [==============================] - 0s 2ms/step - loss: 0.0000e+00 - accuracy: 0.4440\n",
            "Epoch 28/50\n",
            "12/12 [==============================] - 0s 2ms/step - loss: 0.0000e+00 - accuracy: 0.4224\n",
            "Epoch 29/50\n",
            "12/12 [==============================] - 0s 2ms/step - loss: 0.0000e+00 - accuracy: 0.4215\n",
            "Epoch 30/50\n",
            "12/12 [==============================] - 0s 2ms/step - loss: 0.0000e+00 - accuracy: 0.4224\n",
            "Epoch 31/50\n",
            "12/12 [==============================] - 0s 2ms/step - loss: 0.0000e+00 - accuracy: 0.4365\n",
            "Epoch 32/50\n",
            "12/12 [==============================] - 0s 2ms/step - loss: 0.0000e+00 - accuracy: 0.4252\n",
            "Epoch 33/50\n",
            "12/12 [==============================] - 0s 2ms/step - loss: 0.0000e+00 - accuracy: 0.4300\n",
            "Epoch 34/50\n",
            "12/12 [==============================] - 0s 2ms/step - loss: 0.0000e+00 - accuracy: 0.4365\n",
            "Epoch 35/50\n",
            "12/12 [==============================] - 0s 3ms/step - loss: 0.0000e+00 - accuracy: 0.4314\n",
            "Epoch 36/50\n",
            "12/12 [==============================] - 0s 2ms/step - loss: 0.0000e+00 - accuracy: 0.4534\n",
            "Epoch 37/50\n",
            "12/12 [==============================] - 0s 2ms/step - loss: 0.0000e+00 - accuracy: 0.4345\n",
            "Epoch 38/50\n",
            "12/12 [==============================] - 0s 2ms/step - loss: 0.0000e+00 - accuracy: 0.4421\n",
            "Epoch 39/50\n",
            "12/12 [==============================] - 0s 2ms/step - loss: 0.0000e+00 - accuracy: 0.4532\n",
            "Epoch 40/50\n",
            "12/12 [==============================] - 0s 2ms/step - loss: 0.0000e+00 - accuracy: 0.4870\n",
            "Epoch 41/50\n",
            "12/12 [==============================] - 0s 2ms/step - loss: 0.0000e+00 - accuracy: 0.4533\n",
            "Epoch 42/50\n",
            "12/12 [==============================] - 0s 2ms/step - loss: 0.0000e+00 - accuracy: 0.4669\n",
            "Epoch 43/50\n",
            "12/12 [==============================] - 0s 2ms/step - loss: 0.0000e+00 - accuracy: 0.4635\n",
            "Epoch 44/50\n",
            "12/12 [==============================] - 0s 2ms/step - loss: 0.0000e+00 - accuracy: 0.4247\n",
            "Epoch 45/50\n",
            "12/12 [==============================] - 0s 2ms/step - loss: 0.0000e+00 - accuracy: 0.4589\n",
            "Epoch 46/50\n",
            "12/12 [==============================] - 0s 2ms/step - loss: 0.0000e+00 - accuracy: 0.4442\n",
            "Epoch 47/50\n",
            "12/12 [==============================] - 0s 2ms/step - loss: 0.0000e+00 - accuracy: 0.4305\n",
            "Epoch 48/50\n",
            "12/12 [==============================] - 0s 2ms/step - loss: 0.0000e+00 - accuracy: 0.4163\n",
            "Epoch 49/50\n",
            "12/12 [==============================] - 0s 2ms/step - loss: 0.0000e+00 - accuracy: 0.4389\n",
            "Epoch 50/50\n",
            "12/12 [==============================] - 0s 2ms/step - loss: 0.0000e+00 - accuracy: 0.4433\n"
          ],
          "name": "stdout"
        },
        {
          "output_type": "execute_result",
          "data": {
            "text/plain": [
              "<tensorflow.python.keras.callbacks.History at 0x7f3c03e8c310>"
            ]
          },
          "metadata": {
            "tags": []
          },
          "execution_count": 328
        }
      ]
    },
    {
      "cell_type": "markdown",
      "metadata": {
        "id": "T6iez3uqC2gJ"
      },
      "source": [
        "#**K Neighber Classifier**"
      ]
    },
    {
      "cell_type": "code",
      "metadata": {
        "id": "-ozwFWmTiUaJ",
        "colab": {
          "base_uri": "https://localhost:8080/"
        },
        "outputId": "e8515ab0-b749-470e-bf02-35d1e2d2f14c"
      },
      "source": [
        "from sklearn.neighbors import KNeighborsClassifier\n",
        "from sklearn.metrics import classification_report, confusion_matrix, \\\n",
        "f1_score, jaccard_similarity_score\n",
        "\n",
        "# for k in range(1,11):\n",
        "#   knn_model = KNeighborsClassifier(n_neighbors=k)\n",
        "#   knn_model.fit(x_train, y_train)\n",
        "\n",
        "#   knn_result = knn_model.predict(x_test)\n",
        "\n",
        "#   print(\"Confusion Matrix -->\")\n",
        "#   print(confusion_matrix(y_test, knn_result))\n",
        "\n",
        "#   print(\"Classification Report -->\")\n",
        "#   print(classification_report(y_test, knn_result))\n",
        "#   print(\"Accuricy : \",jaccard_similarity_score(y_test, knn_result))\n",
        "#   print(\"Train set Accuricy\", jaccard_similarity_score(y_train, knn_model.predict(x_train)))\n",
        "knn_model = KNeighborsClassifier(n_neighbors=1)\n",
        "knn_model.fit(x_train, y_train)\n",
        "knn_result = knn_model.predict(x_test)\n",
        "print(\"Confusion Matrix -->\")\n",
        "print(confusion_matrix(y_test, knn_result))\n",
        "\n",
        "print(\"Classification Report -->\")\n",
        "print(classification_report(y_test, knn_result))\n",
        "print(\"Accuricy : \",jaccard_similarity_score(y_test, knn_result))\n",
        "print(\"Train set Accuricy\", jaccard_similarity_score(y_train, knn_model.predict(x_train)))"
      ],
      "execution_count": null,
      "outputs": [
        {
          "output_type": "stream",
          "text": [
            "Confusion Matrix -->\n",
            "[[31  0  2]\n",
            " [ 0 28  0]\n",
            " [ 0  0  3]]\n",
            "Classification Report -->\n",
            "              precision    recall  f1-score   support\n",
            "\n",
            "           1       1.00      0.94      0.97        33\n",
            "           2       1.00      1.00      1.00        28\n",
            "           3       0.60      1.00      0.75         3\n",
            "\n",
            "    accuracy                           0.97        64\n",
            "   macro avg       0.87      0.98      0.91        64\n",
            "weighted avg       0.98      0.97      0.97        64\n",
            "\n",
            "Accuricy :  0.96875\n",
            "Train set Accuricy 1.0\n"
          ],
          "name": "stdout"
        },
        {
          "output_type": "stream",
          "text": [
            "/usr/local/lib/python3.7/dist-packages/sklearn/metrics/_classification.py:664: FutureWarning: jaccard_similarity_score has been deprecated and replaced with jaccard_score. It will be removed in version 0.23. This implementation has surprising behavior for binary and multiclass classification tasks.\n",
            "  FutureWarning)\n",
            "/usr/local/lib/python3.7/dist-packages/sklearn/metrics/_classification.py:664: FutureWarning: jaccard_similarity_score has been deprecated and replaced with jaccard_score. It will be removed in version 0.23. This implementation has surprising behavior for binary and multiclass classification tasks.\n",
            "  FutureWarning)\n"
          ],
          "name": "stderr"
        }
      ]
    },
    {
      "cell_type": "code",
      "metadata": {
        "id": "W1pv_CepiUKm"
      },
      "source": [
        "knn_result = knn_model.predict(x_test)"
      ],
      "execution_count": null,
      "outputs": []
    },
    {
      "cell_type": "code",
      "metadata": {
        "id": "nmJaxUAxiUDe",
        "colab": {
          "base_uri": "https://localhost:8080/"
        },
        "outputId": "e7ec8071-480c-48eb-dd17-12f34d499b37"
      },
      "source": [
        "from sklearn.metrics import classification_report, confusion_matrix, \\\n",
        "f1_score, jaccard_similarity_score\n",
        "print(\"Confusion Matrix -->\")\n",
        "cmk = confusion_matrix(y_test, knn_result)\n",
        "print(cmk)\n",
        "\n",
        "print(\"Classification Report -->\")\n",
        "print(classification_report(y_test, knn_result))"
      ],
      "execution_count": null,
      "outputs": [
        {
          "output_type": "stream",
          "text": [
            "Confusion Matrix -->\n",
            "[[31  0  2]\n",
            " [ 0 28  0]\n",
            " [ 0  0  3]]\n",
            "Classification Report -->\n",
            "              precision    recall  f1-score   support\n",
            "\n",
            "           1       1.00      0.94      0.97        33\n",
            "           2       1.00      1.00      1.00        28\n",
            "           3       0.60      1.00      0.75         3\n",
            "\n",
            "    accuracy                           0.97        64\n",
            "   macro avg       0.87      0.98      0.91        64\n",
            "weighted avg       0.98      0.97      0.97        64\n",
            "\n"
          ],
          "name": "stdout"
        }
      ]
    },
    {
      "cell_type": "code",
      "metadata": {
        "id": "45UgMVdeiT7W",
        "colab": {
          "base_uri": "https://localhost:8080/"
        },
        "outputId": "fa4e7187-e307-43d0-a862-1498b4a1648b"
      },
      "source": [
        "print(\"Accuricy : \",jaccard_similarity_score(y_test, knn_result)*100)\n"
      ],
      "execution_count": null,
      "outputs": [
        {
          "output_type": "stream",
          "text": [
            "Accuricy :  96.875\n"
          ],
          "name": "stdout"
        },
        {
          "output_type": "stream",
          "text": [
            "/usr/local/lib/python3.7/dist-packages/sklearn/metrics/_classification.py:664: FutureWarning: jaccard_similarity_score has been deprecated and replaced with jaccard_score. It will be removed in version 0.23. This implementation has surprising behavior for binary and multiclass classification tasks.\n",
            "  FutureWarning)\n"
          ],
          "name": "stderr"
        }
      ]
    },
    {
      "cell_type": "code",
      "metadata": {
        "colab": {
          "base_uri": "https://localhost:8080/",
          "height": 465
        },
        "id": "mUFl6w4ZremS",
        "outputId": "a7bd4c57-f325-4800-b205-4756ac08d1b3"
      },
      "source": [
        "import seaborn as sn\n",
        "sn.set()\n",
        "plt.figure(figsize=(10,7))\n",
        "sn.heatmap(cmk,annot=True)\n",
        "plt.xlabel('Predicted')\n",
        "plt.ylabel('Truth')"
      ],
      "execution_count": null,
      "outputs": [
        {
          "output_type": "execute_result",
          "data": {
            "text/plain": [
              "Text(66.5, 0.5, 'Truth')"
            ]
          },
          "metadata": {
            "tags": []
          },
          "execution_count": 394
        },
        {
          "output_type": "display_data",
          "data": {
            "image/png": "[encoded data removed]",
            "text/plain": [
              "<Figure size 720x504 with 2 Axes>"
            ]
          },
          "metadata": {
            "tags": []
          }
        }
      ]
    },
    {
      "cell_type": "markdown",
      "metadata": {
        "id": "bnRoCiNLK4jV"
      },
      "source": [
        "#**Support Vector Machine**"
      ]
    },
    {
      "cell_type": "code",
      "metadata": {
        "id": "Iye-ljnhKzEg",
        "colab": {
          "base_uri": "https://localhost:8080/"
        },
        "outputId": "df4dc910-7171-46da-d8c2-985a3be63d46"
      },
      "source": [
        "from sklearn import svm\n",
        "svm_model = svm.SVC(C= 20, gamma= 'auto', kernel='rbf')\n",
        "svm_model.fit(x_train, y_train)"
      ],
      "execution_count": null,
      "outputs": [
        {
          "output_type": "execute_result",
          "data": {
            "text/plain": [
              "SVC(C=20, break_ties=False, cache_size=200, class_weight=None, coef0=0.0,\n",
              "    decision_function_shape='ovr', degree=3, gamma='auto', kernel='rbf',\n",
              "    max_iter=-1, probability=False, random_state=None, shrinking=True,\n",
              "    tol=0.001, verbose=False)"
            ]
          },
          "metadata": {
            "tags": []
          },
          "execution_count": 402
        }
      ]
    },
    {
      "cell_type": "code",
      "metadata": {
        "id": "0IHURmu7LRQ-",
        "colab": {
          "base_uri": "https://localhost:8080/"
        },
        "outputId": "89b7c61d-b80d-4561-bcac-b16fe033611a"
      },
      "source": [
        "svm_result = svm_model.predict(x_test)\n",
        "print(\"Confusion Matrix : \")\n",
        "cms = confusion_matrix(y_test, svm_result)\n",
        "print(cms)\n",
        "print(classification_report(y_test, svm_result))\n",
        "print(\"Jaccard index : \", jaccard_similarity_score(y_test, svm_result)*100)"
      ],
      "execution_count": null,
      "outputs": [
        {
          "output_type": "stream",
          "text": [
            "Confusion Matrix : \n",
            "[[31  2  0]\n",
            " [ 0 28  0]\n",
            " [ 0  0  3]]\n",
            "              precision    recall  f1-score   support\n",
            "\n",
            "           1       1.00      0.94      0.97        33\n",
            "           2       0.93      1.00      0.97        28\n",
            "           3       1.00      1.00      1.00         3\n",
            "\n",
            "    accuracy                           0.97        64\n",
            "   macro avg       0.98      0.98      0.98        64\n",
            "weighted avg       0.97      0.97      0.97        64\n",
            "\n",
            "Jaccard index :  96.875\n"
          ],
          "name": "stdout"
        },
        {
          "output_type": "stream",
          "text": [
            "/usr/local/lib/python3.7/dist-packages/sklearn/metrics/_classification.py:664: FutureWarning: jaccard_similarity_score has been deprecated and replaced with jaccard_score. It will be removed in version 0.23. This implementation has surprising behavior for binary and multiclass classification tasks.\n",
            "  FutureWarning)\n"
          ],
          "name": "stderr"
        }
      ]
    },
    {
      "cell_type": "code",
      "metadata": {
        "colab": {
          "base_uri": "https://localhost:8080/",
          "height": 465
        },
        "id": "UWNrDXZirQMD",
        "outputId": "d3597cf7-9802-4c1b-9955-03db28081a0f"
      },
      "source": [
        "import seaborn as sn\n",
        "sn.set()\n",
        "plt.figure(figsize=(10,7))\n",
        "sn.heatmap(cms,annot=True)\n",
        "plt.xlabel('Predicted')\n",
        "plt.ylabel('Truth')"
      ],
      "execution_count": null,
      "outputs": [
        {
          "output_type": "execute_result",
          "data": {
            "text/plain": [
              "Text(66.5, 0.5, 'Truth')"
            ]
          },
          "metadata": {
            "tags": []
          },
          "execution_count": 404
        },
        {
          "output_type": "display_data",
          "data": {
            "image/png": "[encoded data removed]",
            "text/plain": [
              "<Figure size 720x504 with 2 Axes>"
            ]
          },
          "metadata": {
            "tags": []
          }
        }
      ]
    },
    {
      "cell_type": "markdown",
      "metadata": {
        "id": "6AHE_vPCV-A2"
      },
      "source": [
        "#**Hyper parameters tuning**"
      ]
    },
    {
      "cell_type": "code",
      "metadata": {
        "colab": {
          "base_uri": "https://localhost:8080/"
        },
        "id": "TPFeXdfBSu9O",
        "outputId": "a4c1edbb-0f41-4ce9-f7ce-7561b71e490e"
      },
      "source": [
        "from sklearn.model_selection import GridSearchCV\n",
        "\n",
        "test_model = GridSearchCV(svm.SVC(),{\n",
        "    'C':[1,10,20],\n",
        "    'kernel':['rbf','poly','linear'],\n",
        "    'gamma':['scale','auto']\n",
        "},cv=5,return_train_score=False)\n",
        "test_model.fit(x_train,y_train)\n",
        "# test_model.cv_results_"
      ],
      "execution_count": null,
      "outputs": [
        {
          "output_type": "execute_result",
          "data": {
            "text/plain": [
              "GridSearchCV(cv=5, error_score=nan,\n",
              "             estimator=SVC(C=1.0, break_ties=False, cache_size=200,\n",
              "                           class_weight=None, coef0=0.0,\n",
              "                           decision_function_shape='ovr', degree=3,\n",
              "                           gamma='scale', kernel='rbf', max_iter=-1,\n",
              "                           probability=False, random_state=None, shrinking=True,\n",
              "                           tol=0.001, verbose=False),\n",
              "             iid='deprecated', n_jobs=None,\n",
              "             param_grid={'C': [1, 10, 20], 'gamma': ['scale', 'auto'],\n",
              "                         'kernel': ['rbf', 'poly', 'linear']},\n",
              "             pre_dispatch='2*n_jobs', refit=True, return_train_score=False,\n",
              "             scoring=None, verbose=0)"
            ]
          },
          "metadata": {
            "tags": []
          },
          "execution_count": 434
        }
      ]
    },
    {
      "cell_type": "code",
      "metadata": {
        "colab": {
          "base_uri": "https://localhost:8080/",
          "height": 607
        },
        "id": "pLV9E0txTvi2",
        "outputId": "33acd00e-6a80-4627-f86a-7c65d6457dda"
      },
      "source": [
        "result = pd.DataFrame(test_model.cv_results_)\n",
        "result[['params','mean_test_score']]"
      ],
      "execution_count": null,
      "outputs": [
        {
          "output_type": "execute_result",
          "data": {
            "text/html": [
              "<div>\n",
              "<style scoped>\n",
              "    .dataframe tbody tr th:only-of-type {\n",
              "        vertical-align: middle;\n",
              "    }\n",
              "\n",
              "    .dataframe tbody tr th {\n",
              "        vertical-align: top;\n",
              "    }\n",
              "\n",
              "    .dataframe thead th {\n",
              "        text-align: right;\n",
              "    }\n",
              "</style>\n",
              "<table border=\"1\" class=\"dataframe\">\n",
              "  <thead>\n",
              "    <tr style=\"text-align: right;\">\n",
              "      <th></th>\n",
              "      <th>params</th>\n",
              "      <th>mean_test_score</th>\n",
              "    </tr>\n",
              "  </thead>\n",
              "  <tbody>\n",
              "    <tr>\n",
              "      <th>0</th>\n",
              "      <td>{'C': 1, 'gamma': 'scale', 'kernel': 'rbf'}</td>\n",
              "      <td>0.533725</td>\n",
              "    </tr>\n",
              "    <tr>\n",
              "      <th>1</th>\n",
              "      <td>{'C': 1, 'gamma': 'scale', 'kernel': 'poly'}</td>\n",
              "      <td>0.525039</td>\n",
              "    </tr>\n",
              "    <tr>\n",
              "      <th>2</th>\n",
              "      <td>{'C': 1, 'gamma': 'scale', 'kernel': 'linear'}</td>\n",
              "      <td>0.678560</td>\n",
              "    </tr>\n",
              "    <tr>\n",
              "      <th>3</th>\n",
              "      <td>{'C': 1, 'gamma': 'auto', 'kernel': 'rbf'}</td>\n",
              "      <td>0.754264</td>\n",
              "    </tr>\n",
              "    <tr>\n",
              "      <th>4</th>\n",
              "      <td>{'C': 1, 'gamma': 'auto', 'kernel': 'poly'}</td>\n",
              "      <td>0.837833</td>\n",
              "    </tr>\n",
              "    <tr>\n",
              "      <th>5</th>\n",
              "      <td>{'C': 1, 'gamma': 'auto', 'kernel': 'linear'}</td>\n",
              "      <td>0.678560</td>\n",
              "    </tr>\n",
              "    <tr>\n",
              "      <th>6</th>\n",
              "      <td>{'C': 10, 'gamma': 'scale', 'kernel': 'rbf'}</td>\n",
              "      <td>0.636894</td>\n",
              "    </tr>\n",
              "    <tr>\n",
              "      <th>7</th>\n",
              "      <td>{'C': 10, 'gamma': 'scale', 'kernel': 'poly'}</td>\n",
              "      <td>0.575391</td>\n",
              "    </tr>\n",
              "    <tr>\n",
              "      <th>8</th>\n",
              "      <td>{'C': 10, 'gamma': 'scale', 'kernel': 'linear'}</td>\n",
              "      <td>0.684194</td>\n",
              "    </tr>\n",
              "    <tr>\n",
              "      <th>9</th>\n",
              "      <td>{'C': 10, 'gamma': 'auto', 'kernel': 'rbf'}</td>\n",
              "      <td>0.826761</td>\n",
              "    </tr>\n",
              "    <tr>\n",
              "      <th>10</th>\n",
              "      <td>{'C': 10, 'gamma': 'auto', 'kernel': 'poly'}</td>\n",
              "      <td>0.835055</td>\n",
              "    </tr>\n",
              "    <tr>\n",
              "      <th>11</th>\n",
              "      <td>{'C': 10, 'gamma': 'auto', 'kernel': 'linear'}</td>\n",
              "      <td>0.684194</td>\n",
              "    </tr>\n",
              "    <tr>\n",
              "      <th>12</th>\n",
              "      <td>{'C': 20, 'gamma': 'scale', 'kernel': 'rbf'}</td>\n",
              "      <td>0.656495</td>\n",
              "    </tr>\n",
              "    <tr>\n",
              "      <th>13</th>\n",
              "      <td>{'C': 20, 'gamma': 'scale', 'kernel': 'poly'}</td>\n",
              "      <td>0.575274</td>\n",
              "    </tr>\n",
              "    <tr>\n",
              "      <th>14</th>\n",
              "      <td>{'C': 20, 'gamma': 'scale', 'kernel': 'linear'}</td>\n",
              "      <td>0.678599</td>\n",
              "    </tr>\n",
              "    <tr>\n",
              "      <th>15</th>\n",
              "      <td>{'C': 20, 'gamma': 'auto', 'kernel': 'rbf'}</td>\n",
              "      <td>0.826761</td>\n",
              "    </tr>\n",
              "    <tr>\n",
              "      <th>16</th>\n",
              "      <td>{'C': 20, 'gamma': 'auto', 'kernel': 'poly'}</td>\n",
              "      <td>0.835055</td>\n",
              "    </tr>\n",
              "    <tr>\n",
              "      <th>17</th>\n",
              "      <td>{'C': 20, 'gamma': 'auto', 'kernel': 'linear'}</td>\n",
              "      <td>0.678599</td>\n",
              "    </tr>\n",
              "  </tbody>\n",
              "</table>\n",
              "</div>"
            ],
            "text/plain": [
              "                                             params  mean_test_score\n",
              "0       {'C': 1, 'gamma': 'scale', 'kernel': 'rbf'}         0.533725\n",
              "1      {'C': 1, 'gamma': 'scale', 'kernel': 'poly'}         0.525039\n",
              "2    {'C': 1, 'gamma': 'scale', 'kernel': 'linear'}         0.678560\n",
              "3        {'C': 1, 'gamma': 'auto', 'kernel': 'rbf'}         0.754264\n",
              "4       {'C': 1, 'gamma': 'auto', 'kernel': 'poly'}         0.837833\n",
              "5     {'C': 1, 'gamma': 'auto', 'kernel': 'linear'}         0.678560\n",
              "6      {'C': 10, 'gamma': 'scale', 'kernel': 'rbf'}         0.636894\n",
              "7     {'C': 10, 'gamma': 'scale', 'kernel': 'poly'}         0.575391\n",
              "8   {'C': 10, 'gamma': 'scale', 'kernel': 'linear'}         0.684194\n",
              "9       {'C': 10, 'gamma': 'auto', 'kernel': 'rbf'}         0.826761\n",
              "10     {'C': 10, 'gamma': 'auto', 'kernel': 'poly'}         0.835055\n",
              "11   {'C': 10, 'gamma': 'auto', 'kernel': 'linear'}         0.684194\n",
              "12     {'C': 20, 'gamma': 'scale', 'kernel': 'rbf'}         0.656495\n",
              "13    {'C': 20, 'gamma': 'scale', 'kernel': 'poly'}         0.575274\n",
              "14  {'C': 20, 'gamma': 'scale', 'kernel': 'linear'}         0.678599\n",
              "15      {'C': 20, 'gamma': 'auto', 'kernel': 'rbf'}         0.826761\n",
              "16     {'C': 20, 'gamma': 'auto', 'kernel': 'poly'}         0.835055\n",
              "17   {'C': 20, 'gamma': 'auto', 'kernel': 'linear'}         0.678599"
            ]
          },
          "metadata": {
            "tags": []
          },
          "execution_count": 435
        }
      ]
    },
    {
      "cell_type": "markdown",
      "metadata": {
        "id": "ZGIAV8-0M-Io"
      },
      "source": [
        "#**Logistic Regression**"
      ]
    },
    {
      "cell_type": "code",
      "metadata": {
        "id": "9SCX_PZCozso"
      },
      "source": [
        "from sklearn import linear_model\n",
        "log_reg = linear_model.LogisticRegression(solver='newton-cg')"
      ],
      "execution_count": null,
      "outputs": []
    },
    {
      "cell_type": "code",
      "metadata": {
        "id": "GzA5nlaVoze2",
        "colab": {
          "base_uri": "https://localhost:8080/"
        },
        "outputId": "de3dc131-a0ac-4ec9-8252-b6cab579f034"
      },
      "source": [
        "log_reg.fit(x_train,y_train)"
      ],
      "execution_count": null,
      "outputs": [
        {
          "output_type": "execute_result",
          "data": {
            "text/plain": [
              "LogisticRegression(C=1.0, class_weight=None, dual=False, fit_intercept=True,\n",
              "                   intercept_scaling=1, l1_ratio=None, max_iter=100,\n",
              "                   multi_class='auto', n_jobs=None, penalty='l2',\n",
              "                   random_state=None, solver='newton-cg', tol=0.0001, verbose=0,\n",
              "                   warm_start=False)"
            ]
          },
          "metadata": {
            "tags": []
          },
          "execution_count": 406
        }
      ]
    },
    {
      "cell_type": "code",
      "metadata": {
        "id": "9Gy8hoE8ozVc"
      },
      "source": [
        "log_predict = log_reg.predict(x_test)"
      ],
      "execution_count": null,
      "outputs": []
    },
    {
      "cell_type": "code",
      "metadata": {
        "id": "3GwgOPrJhurE",
        "colab": {
          "base_uri": "https://localhost:8080/"
        },
        "outputId": "386e305d-d0a7-480a-94b7-356e2dd4f9e4"
      },
      "source": [
        "accuracy_score(y_test, log_predict)*100"
      ],
      "execution_count": null,
      "outputs": [
        {
          "output_type": "execute_result",
          "data": {
            "text/plain": [
              "68.75"
            ]
          },
          "metadata": {
            "tags": []
          },
          "execution_count": 408
        }
      ]
    },
    {
      "cell_type": "code",
      "metadata": {
        "id": "R9ui8oHwiZHz",
        "colab": {
          "base_uri": "https://localhost:8080/"
        },
        "outputId": "3ac242aa-05d3-4f64-ab23-6a2ec4fc8f65"
      },
      "source": [
        "cmlr = confusion_matrix(y_test,log_predict)\n",
        "cmlr"
      ],
      "execution_count": null,
      "outputs": [
        {
          "output_type": "execute_result",
          "data": {
            "text/plain": [
              "array([[22,  9,  2],\n",
              "       [ 6, 22,  0],\n",
              "       [ 3,  0,  0]])"
            ]
          },
          "metadata": {
            "tags": []
          },
          "execution_count": 409
        }
      ]
    },
    {
      "cell_type": "code",
      "metadata": {
        "id": "tjuB-uC1MvIf",
        "colab": {
          "base_uri": "https://localhost:8080/",
          "height": 465
        },
        "outputId": "f27889ff-6dea-475f-83ed-773c65d86405"
      },
      "source": [
        "import seaborn as sn\n",
        "sn.set()\n",
        "plt.figure(figsize=(10,7))\n",
        "sn.heatmap(cmlr,annot=True)\n",
        "plt.xlabel('Predicted')\n",
        "plt.ylabel('Truth')"
      ],
      "execution_count": null,
      "outputs": [
        {
          "output_type": "execute_result",
          "data": {
            "text/plain": [
              "Text(66.5, 0.5, 'Truth')"
            ]
          },
          "metadata": {
            "tags": []
          },
          "execution_count": 410
        },
        {
          "output_type": "display_data",
          "data": {
            "image/png": "[encoded data removed]",
            "text/plain": [
              "<Figure size 720x504 with 2 Axes>"
            ]
          },
          "metadata": {
            "tags": []
          }
        }
      ]
    },
    {
      "cell_type": "code",
      "metadata": {
        "id": "C7fq_H4Es-Yq"
      },
      "source": [
        ""
      ],
      "execution_count": null,
      "outputs": []
    }
  ]
}